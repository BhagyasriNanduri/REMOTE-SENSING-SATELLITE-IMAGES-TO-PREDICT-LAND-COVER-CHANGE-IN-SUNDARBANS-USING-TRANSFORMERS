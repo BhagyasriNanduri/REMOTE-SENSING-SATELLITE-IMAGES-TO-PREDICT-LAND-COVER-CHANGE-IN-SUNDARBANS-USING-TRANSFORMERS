{
 "cells": [
  {
   "cell_type": "code",
   "execution_count": 106,
   "metadata": {
    "colab": {
     "base_uri": "https://localhost:8080/"
    },
    "id": "LBSKXy7uEXSl",
    "outputId": "d9bdc595-0870-4692-a97a-b53e29224eb7"
   },
   "outputs": [
    {
     "name": "stdout",
     "output_type": "stream",
     "text": [
      "Looking in indexes: https://pypi.org/simple, https://us-python.pkg.dev/colab-wheels/public/simple/\n",
      "Requirement already satisfied: tensorflow-addons in /usr/local/lib/python3.9/dist-packages (0.19.0)\n",
      "Requirement already satisfied: packaging in /usr/local/lib/python3.9/dist-packages (from tensorflow-addons) (23.0)\n",
      "Requirement already satisfied: typeguard>=2.7 in /usr/local/lib/python3.9/dist-packages (from tensorflow-addons) (3.0.2)\n",
      "Requirement already satisfied: importlib-metadata>=3.6 in /usr/local/lib/python3.9/dist-packages (from typeguard>=2.7->tensorflow-addons) (6.1.0)\n",
      "Requirement already satisfied: typing-extensions>=4.4.0 in /usr/local/lib/python3.9/dist-packages (from typeguard>=2.7->tensorflow-addons) (4.5.0)\n",
      "Requirement already satisfied: zipp>=0.5 in /usr/local/lib/python3.9/dist-packages (from importlib-metadata>=3.6->typeguard>=2.7->tensorflow-addons) (3.15.0)\n"
     ]
    }
   ],
   "source": [
    "pip install -U tensorflow-addons"
   ]
  },
  {
   "cell_type": "code",
   "execution_count": 107,
   "metadata": {
    "id": "vhqHjyhNEY1e"
   },
   "outputs": [],
   "source": [
    "import numpy as np\n",
    "import tensorflow as tf\n",
    "from tensorflow import keras\n",
    "from tensorflow.keras import layers\n",
    "import tensorflow_addons as tfa"
   ]
  },
  {
   "cell_type": "code",
   "execution_count": 4,
   "metadata": {
    "id": "mK77yhLGCHGJ"
   },
   "outputs": [],
   "source": [
    "!unzip -q /content/Combinedimages.zip\n"
   ]
  },
  {
   "cell_type": "code",
   "execution_count": 5,
   "metadata": {
    "id": "LL6zlaR0PZjZ"
   },
   "outputs": [],
   "source": [
    "!unzip -q /content/Combimed_mask_images.zip"
   ]
  },
  {
   "cell_type": "code",
   "execution_count": 108,
   "metadata": {
    "id": "_ZD815SQt-Hx"
   },
   "outputs": [],
   "source": [
    "import os\n",
    "from PIL import Image\n",
    "import numpy as np\n",
    "import tensorflow as tf\n",
    "from tensorflow import keras\n",
    "from sklearn.model_selection import train_test_split"
   ]
  },
  {
   "cell_type": "code",
   "execution_count": 109,
   "metadata": {
    "id": "JnJypNGSJ7rl"
   },
   "outputs": [],
   "source": [
    "import pandas as pd"
   ]
  },
  {
   "cell_type": "code",
   "execution_count": 110,
   "metadata": {
    "id": "oHPQ0WIU44A6"
   },
   "outputs": [],
   "source": [
    "num_classes = 1\n",
    "input_shape = (100, 100, 3)"
   ]
  },
  {
   "cell_type": "code",
   "execution_count": 111,
   "metadata": {
    "colab": {
     "base_uri": "https://localhost:8080/"
    },
    "id": "8fE_PWAEt8ya",
    "outputId": "10d47b0f-df29-489a-d860-0242e2243a4e"
   },
   "outputs": [
    {
     "name": "stdout",
     "output_type": "stream",
     "text": [
      "Shape of image_data: (71, 100, 100, 3)\n"
     ]
    }
   ],
   "source": [
    "path_to_images = '/content/Combined images'\n",
    "\n",
    "# Create an empty list to store the image data\n",
    "image_data_list = []\n",
    "\n",
    "\n",
    "# Loop through each file in the directory\n",
    "for i in os.listdir(path_to_images):\n",
    "  imagepath = path_to_images + '/' +str(i)\n",
    "  images = Image.open(imagepath)\n",
    "  #images.show()\n",
    "  \n",
    "  # Convert each image to a numpy array and append to the list\n",
    "  image_data_list.append(np.array(images.resize((100, 100))))\n",
    "\n",
    "# Convert the list of image data to a numpy array\n",
    "image_data = np.array(image_data_list)\n",
    "\n",
    "# Print the shape of the numpy array\n",
    "print(\"Shape of image_data:\", image_data.shape)\n"
   ]
  },
  {
   "cell_type": "code",
   "execution_count": 112,
   "metadata": {
    "colab": {
     "base_uri": "https://localhost:8080/"
    },
    "id": "lCSrVh9b2adc",
    "outputId": "0c112d1b-ec74-480a-e6df-098e0534d63a"
   },
   "outputs": [
    {
     "name": "stdout",
     "output_type": "stream",
     "text": [
      "Shape of Label_data: (71, 1, 1)\n"
     ]
    }
   ],
   "source": [
    "import cv2\n",
    "thresh = 200\n",
    "\n",
    "path_to_labels = '/content/Combimed_mask_images'\n",
    "\n",
    "# Create an empty list to store the label data\n",
    "label_data_list = []\n",
    "\n",
    "# Loop through each file in the directory\n",
    "for l in os.listdir(path_to_labels):\n",
    "  labelpath = path_to_labels + '/' +str(l)\n",
    "  labels = Image.open(labelpath)\n",
    "  fn = lambda x : 255 if x > thresh else 0\n",
    "  labels = labels.convert('L').point(fn, mode='1')\n",
    "  #labels.show()\n",
    "\n",
    "\n",
    "  # Convert each label to a numpy array and append to the list\n",
    "  label_data_list.append(np.array(labels.resize((1, 1))))\n",
    "\n",
    "# Convert the list of label data to a numpy array\n",
    "label_data = np.array(label_data_list)\n",
    "\n",
    "# Print the shape of the numpy array\n",
    "print(\"Shape of Label_data:\", label_data.shape)"
   ]
  },
  {
   "cell_type": "code",
   "execution_count": 113,
   "metadata": {
    "colab": {
     "base_uri": "https://localhost:8080/"
    },
    "id": "UtVqkLs3YlAf",
    "outputId": "67fde71a-6105-46c3-f0a5-eb7354c4ac0f"
   },
   "outputs": [
    {
     "name": "stdout",
     "output_type": "stream",
     "text": [
      "71\n"
     ]
    }
   ],
   "source": [
    "label_data=label_data.astype(int)\n",
    "print(len(label_data))"
   ]
  },
  {
   "cell_type": "code",
   "execution_count": 114,
   "metadata": {
    "colab": {
     "base_uri": "https://localhost:8080/"
    },
    "id": "L3PRsip2Yvq2",
    "outputId": "8942cfbc-e513-4071-a7b4-e19c6aa3f7b9"
   },
   "outputs": [
    {
     "data": {
      "text/plain": [
       "array([0, 1])"
      ]
     },
     "execution_count": 114,
     "metadata": {},
     "output_type": "execute_result"
    }
   ],
   "source": [
    "np.unique(label_data)"
   ]
  },
  {
   "cell_type": "code",
   "execution_count": 115,
   "metadata": {
    "id": "jqBBA9_Mppcz"
   },
   "outputs": [],
   "source": [
    "from imblearn.over_sampling import SMOTE\n"
   ]
  },
  {
   "cell_type": "code",
   "execution_count": 116,
   "metadata": {
    "id": "2AgSxLU9tNbb"
   },
   "outputs": [],
   "source": [
    "image_data=image_data.reshape(71,30000)"
   ]
  },
  {
   "cell_type": "code",
   "execution_count": 117,
   "metadata": {
    "id": "br2krjuMtmEE"
   },
   "outputs": [],
   "source": [
    "label_data=label_data.reshape(71,1)"
   ]
  },
  {
   "cell_type": "code",
   "execution_count": 118,
   "metadata": {
    "id": "k9L0ZhUco8iy"
   },
   "outputs": [],
   "source": [
    "sm = SMOTE(random_state=42)\n",
    "image_data, label_data = sm.fit_resample(image_data, label_data)"
   ]
  },
  {
   "cell_type": "code",
   "execution_count": 119,
   "metadata": {
    "colab": {
     "base_uri": "https://localhost:8080/"
    },
    "id": "TPjlP5Ozo8Vv",
    "outputId": "64deb17a-97d1-4624-9b6d-b2d5d3cc9338"
   },
   "outputs": [
    {
     "data": {
      "text/plain": [
       "(78, 30000)"
      ]
     },
     "execution_count": 119,
     "metadata": {},
     "output_type": "execute_result"
    }
   ],
   "source": [
    "image_data.shape"
   ]
  },
  {
   "cell_type": "code",
   "execution_count": 120,
   "metadata": {
    "id": "oC8JnEML3lU0"
   },
   "outputs": [],
   "source": [
    "image_data=image_data.reshape(78,100,100,3)"
   ]
  },
  {
   "cell_type": "code",
   "execution_count": 182,
   "metadata": {
    "id": "pwh_HIvR1sPX"
   },
   "outputs": [],
   "source": [
    "label_data = label_data.reshape(78,1)"
   ]
  },
  {
   "cell_type": "code",
   "execution_count": 183,
   "metadata": {
    "colab": {
     "base_uri": "https://localhost:8080/"
    },
    "id": "kg9MaOo6KgL8",
    "outputId": "64a433d4-c137-456a-f4f6-084762551987"
   },
   "outputs": [
    {
     "data": {
      "text/plain": [
       "(array([0, 1]), array([39, 39]))"
      ]
     },
     "execution_count": 183,
     "metadata": {},
     "output_type": "execute_result"
    }
   ],
   "source": [
    "np.unique(label_data, return_counts=True)"
   ]
  },
  {
   "cell_type": "code",
   "execution_count": 184,
   "metadata": {
    "id": "mO5sbUSMyav1"
   },
   "outputs": [],
   "source": [
    "# label_data=label_data.astype(int)\n",
    "# print(len(label_data))"
   ]
  },
  {
   "cell_type": "code",
   "execution_count": 122,
   "metadata": {
    "colab": {
     "base_uri": "https://localhost:8080/"
    },
    "id": "JOvZA3NUuu1C",
    "outputId": "f0d68dd5-2bf7-48ad-eed3-da38741bc950"
   },
   "outputs": [
    {
     "name": "stdout",
     "output_type": "stream",
     "text": [
      "x_train shape: (62, 100, 100, 3) - y_train shape: (62, 1, 1)\n",
      "x_test shape: (16, 100, 100, 3) - y_test shape: (16, 1, 1)\n",
      "x_train shape: (62, 100, 100, 3) - y_train shape: (62, 1)\n",
      "x_test shape: (16, 100, 100, 3) - y_test shape: (16, 1)\n"
     ]
    }
   ],
   "source": [
    "#@title Default title text\n",
    "# Split the data into training and testing sets\n",
    "# Assuming that you have loaded your image and label data into x and y variables respectively\n",
    "x_train, x_test, y_train, y_test = train_test_split(image_data,label_data, test_size=0.2, random_state=42)\n",
    "\n",
    "print(f\"x_train shape: {x_train.shape} - y_train shape: {y_train.shape}\")\n",
    "print(f\"x_test shape: {x_test.shape} - y_test shape: {y_test.shape}\")\n",
    "\n",
    "y_train = y_train.reshape(-1,1)\n",
    "y_test = y_test.reshape(-1,1)\n",
    "\n",
    "print(f\"x_train shape: {x_train.shape} - y_train shape: {y_train.shape}\")\n",
    "print(f\"x_test shape: {x_test.shape} - y_test shape: {y_test.shape}\")"
   ]
  },
  {
   "cell_type": "code",
   "execution_count": 173,
   "metadata": {
    "id": "9Gep8AG-LyU7"
   },
   "outputs": [],
   "source": [
    "from sklearn.model_selection import train_test_split"
   ]
  },
  {
   "cell_type": "code",
   "execution_count": 185,
   "metadata": {
    "id": "3dVg_f4wLPpf"
   },
   "outputs": [],
   "source": [
    "x_train, x_test, y_train, y_test = train_test_split(image_data,label_data, test_size=0.2, random_state=42,stratify=label_data)"
   ]
  },
  {
   "cell_type": "code",
   "execution_count": 186,
   "metadata": {
    "colab": {
     "base_uri": "https://localhost:8080/"
    },
    "id": "WbXTDJxOOR8F",
    "outputId": "92cf4ec7-6db1-4b9f-8054-728039058bfb"
   },
   "outputs": [
    {
     "data": {
      "text/plain": [
       "(78, 100, 100, 3)"
      ]
     },
     "execution_count": 186,
     "metadata": {},
     "output_type": "execute_result"
    }
   ],
   "source": [
    "image_data.shape"
   ]
  },
  {
   "cell_type": "code",
   "execution_count": 187,
   "metadata": {
    "colab": {
     "base_uri": "https://localhost:8080/"
    },
    "id": "loPqb7tkOfnO",
    "outputId": "250b0c8b-2566-4114-bc5f-6ccb75ba9821"
   },
   "outputs": [
    {
     "data": {
      "text/plain": [
       "(78, 1)"
      ]
     },
     "execution_count": 187,
     "metadata": {},
     "output_type": "execute_result"
    }
   ],
   "source": [
    "label_data.shape "
   ]
  },
  {
   "cell_type": "code",
   "execution_count": 188,
   "metadata": {
    "colab": {
     "base_uri": "https://localhost:8080/"
    },
    "id": "oWCWkoKANUJP",
    "outputId": "e802f8fd-2bfb-48b1-c5b6-ebd56a8168b8"
   },
   "outputs": [
    {
     "name": "stdout",
     "output_type": "stream",
     "text": [
      "x_train shape: (62, 100, 100, 3) - y_train shape: (62, 1)\n",
      "x_test shape: (16, 100, 100, 3) - y_test shape: (16, 1)\n"
     ]
    }
   ],
   "source": [
    "print(f\"x_train shape: {x_train.shape} - y_train shape: {y_train.shape}\")\n",
    "print(f\"x_test shape: {x_test.shape} - y_test shape: {y_test.shape}\")"
   ]
  },
  {
   "cell_type": "code",
   "execution_count": 190,
   "metadata": {
    "id": "z41tQMwUEpDV"
   },
   "outputs": [],
   "source": [
    "learning_rate = 0.0001\n",
    "weight_decay = 0.0001\n",
    "batch_size = 256\n",
    "num_epochs = 100\n",
    "image_size = 72 # We'll resize input images to this size\n",
    "patch_size = 6  # Size of the patches to be extract from the input images\n",
    "num_patches = (image_size // patch_size) ** 2\n",
    "projection_dim = 64\n",
    "num_heads = 4\n",
    "transformer_units = [\n",
    "    projection_dim * 2,\n",
    "    projection_dim,\n",
    "]  # Size of the transformer layers\n",
    "transformer_layers = 8\n",
    "mlp_head_units = [2048, 1024]  # Size of the dense layers of the final classifier"
   ]
  },
  {
   "cell_type": "code",
   "execution_count": 191,
   "metadata": {
    "colab": {
     "base_uri": "https://localhost:8080/"
    },
    "id": "E1fqI17wEuDi",
    "outputId": "fc966323-15f8-45ef-bb27-6f8968b7878d"
   },
   "outputs": [
    {
     "name": "stderr",
     "output_type": "stream",
     "text": [
      "WARNING:tensorflow:5 out of the last 9 calls to <function PreprocessingLayer.make_adapt_function.<locals>.adapt_step at 0x7f9f982ed1f0> triggered tf.function retracing. Tracing is expensive and the excessive number of tracings could be due to (1) creating @tf.function repeatedly in a loop, (2) passing tensors with different shapes, (3) passing Python objects instead of tensors. For (1), please define your @tf.function outside of the loop. For (2), @tf.function has reduce_retracing=True option that can avoid unnecessary retracing. For (3), please refer to https://www.tensorflow.org/guide/function#controlling_retracing and https://www.tensorflow.org/api_docs/python/tf/function for  more details.\n"
     ]
    }
   ],
   "source": [
    "data_augmentation = keras.Sequential(\n",
    "    [\n",
    "        layers.Normalization(),\n",
    "        layers.Resizing(image_size, image_size),\n",
    "        layers.RandomFlip(\"horizontal\"),\n",
    "        layers.RandomRotation(factor=0.02),\n",
    "        layers.RandomZoom(\n",
    "            height_factor=0.2, width_factor=0.2\n",
    "        ),\n",
    "    ],\n",
    "    name=\"data_augmentation\",\n",
    ")\n",
    "# Compute the mean and the variance of the training data for normalization.\n",
    "data_augmentation.layers[0].adapt(x_train)"
   ]
  },
  {
   "cell_type": "code",
   "execution_count": 192,
   "metadata": {
    "id": "_h8sWE1YEw2h"
   },
   "outputs": [],
   "source": [
    "def mlp(x, hidden_units, dropout_rate):\n",
    "    for units in hidden_units:\n",
    "        x = layers.Dense(units, activation=tf.nn.gelu)(x)\n",
    "        x = layers.Dropout(dropout_rate)(x)\n",
    "    return x"
   ]
  },
  {
   "cell_type": "code",
   "execution_count": 193,
   "metadata": {
    "id": "nGOSW97AE22T"
   },
   "outputs": [],
   "source": [
    "class Patches(layers.Layer):\n",
    "    def __init__(self, patch_size):\n",
    "        super().__init__()\n",
    "        self.patch_size = patch_size\n",
    "\n",
    "    def call(self, images):\n",
    "        batch_size = tf.shape(images)[0]\n",
    "        patches = tf.image.extract_patches(\n",
    "            images=images,\n",
    "            sizes=[1, self.patch_size, self.patch_size, 1],\n",
    "            strides=[1, self.patch_size, self.patch_size, 1],\n",
    "            rates=[1, 1, 1, 1],\n",
    "            padding=\"VALID\",\n",
    "            \n",
    "        )\n",
    "        patch_dims = patches.shape[-1]\n",
    "        patches = tf.reshape(patches, [batch_size, -1, patch_dims])\n",
    "        return patches\n"
   ]
  },
  {
   "cell_type": "code",
   "execution_count": 194,
   "metadata": {
    "colab": {
     "base_uri": "https://localhost:8080/",
     "height": 566
    },
    "id": "WQ6SgPDEE51h",
    "outputId": "de583c7d-6508-4d7d-a21b-1b0cec7c9f0d"
   },
   "outputs": [
    {
     "name": "stdout",
     "output_type": "stream",
     "text": [
      "(1, 72, 72, 3)\n",
      "Image size: 72 X 72\n",
      "Patch size: 6 X 6\n",
      "Patches per image: 144\n",
      "Elements per patch: 108\n"
     ]
    },
    {
     "data": {
      "image/png": "[encoded data removed]",
      "text/plain": [
       "<Figure size 288x288 with 1 Axes>"
      ]
     },
     "metadata": {
      "needs_background": "light"
     },
     "output_type": "display_data"
    },
    {
     "data": {
      "image/png": "[encoded data removed]",
      "text/plain": [
       "<Figure size 288x288 with 144 Axes>"
      ]
     },
     "metadata": {
      "needs_background": "light"
     },
     "output_type": "display_data"
    }
   ],
   "source": [
    "import matplotlib.pyplot as plt\n",
    "\n",
    "plt.figure(figsize=(4, 4))\n",
    "image = x_train[np.random.choice(range(x_train.shape[0]))]\n",
    "plt.imshow(image.astype(\"uint8\"))\n",
    "plt.axis(\"off\")\n",
    "\n",
    "resized_image = tf.image.resize(\n",
    "    tf.convert_to_tensor([image]), size=(image_size, image_size)\n",
    ")\n",
    "\n",
    "#print(image)\n",
    "\n",
    "patches = Patches(patch_size)(resized_image)\n",
    "print(resized_image.shape)\n",
    "print(f\"Image size: {image_size} X {image_size}\")\n",
    "print(f\"Patch size: {patch_size} X {patch_size}\")\n",
    "print(f\"Patches per image: {patches.shape[1]}\")\n",
    "print(f\"Elements per patch: {patches.shape[-1]}\")\n",
    "\n",
    "n = int(np.sqrt(patches.shape[1]))\n",
    "plt.figure(figsize=(4, 4))\n",
    "for i, patch in enumerate(patches[0]):\n",
    "    ax = plt.subplot(n, n, i + 1)\n",
    "    patch_img = tf.reshape(patch, (patch_size, patch_size, 3))\n",
    "    plt.imshow(patch_img.numpy().astype(\"uint8\"))\n",
    "    plt.axis(\"off\")"
   ]
  },
  {
   "cell_type": "code",
   "execution_count": 195,
   "metadata": {
    "id": "3idrgCsCFA-q"
   },
   "outputs": [],
   "source": [
    "class PatchEncoder(layers.Layer):\n",
    "    def __init__(self, num_patches, projection_dim):\n",
    "        super().__init__()\n",
    "        self.num_patches = num_patches\n",
    "        self.projection = layers.Dense(units=projection_dim)\n",
    "        self.position_embedding = layers.Embedding(\n",
    "            input_dim=num_patches, output_dim=projection_dim\n",
    "        )\n",
    "\n",
    "    def call(self, patch):\n",
    "        positions = tf.range(start=0, limit=self.num_patches, delta=1)\n",
    "        encoded = self.projection(patch) + self.position_embedding(positions)\n",
    "        return encoded"
   ]
  },
  {
   "cell_type": "code",
   "execution_count": 196,
   "metadata": {
    "id": "vTRW-vStFFGC"
   },
   "outputs": [],
   "source": [
    "def create_vit_classifier():\n",
    "    inputs = layers.Input(shape=input_shape)\n",
    "    # Augment data.\n",
    "    augmented = data_augmentation(inputs)\n",
    "    # Create patches.\n",
    "    patches = Patches(patch_size)(augmented)\n",
    "    # Encode patches.\n",
    "    encoded_patches = PatchEncoder(num_patches, projection_dim)(patches)\n",
    "\n",
    "    # Create multiple layers of the Transformer block.\n",
    "    for _ in range(transformer_layers):\n",
    "        # Layer normalization 1.\n",
    "        x1 = layers.LayerNormalization(epsilon=1e-6)(encoded_patches)\n",
    "        \n",
    "        # Create a multi-head attention layer.\n",
    "        attention_output = layers.MultiHeadAttention(\n",
    "            num_heads=num_heads, key_dim=projection_dim, dropout=0.1\n",
    "        )(x1, x1)\n",
    "        # Skip connection 1.\n",
    "        x2 = layers.Add()([attention_output, encoded_patches])\n",
    "        \n",
    "        # Layer normalization 2.\n",
    "        x3 = layers.LayerNormalization(epsilon=1e-6)(x2)\n",
    "        \n",
    "        # MLP.\n",
    "        x3 = mlp(x3, hidden_units=transformer_units, dropout_rate=0.1)\n",
    "        # Skip connection 2.\n",
    "        encoded_patches = layers.Add()([x3, x2])\n",
    "\n",
    "    # Create a [batch_size, projection_dim] tensor.\n",
    "    representation = layers.LayerNormalization(epsilon=1e-6)(encoded_patches)\n",
    "    representation = layers.Flatten()(representation)\n",
    "    representation = layers.Dropout(0.5)(representation)\n",
    "    # Add MLP.\n",
    "    features = mlp(representation, hidden_units=mlp_head_units, dropout_rate=0.5)\n",
    "    # Classify outputs.\n",
    "    logits = layers.Dense(num_classes)(features)\n",
    "    print(logits)\n",
    "    # Create the Keras model.\n",
    "    print(inputs.shape)\n",
    "    print(logits.shape)\n",
    "    model = keras.Model(inputs=inputs, outputs=logits)\n",
    "\n",
    "    return model"
   ]
  },
  {
   "cell_type": "code",
   "execution_count": 197,
   "metadata": {
    "colab": {
     "base_uri": "https://localhost:8080/"
    },
    "id": "PUNzyMSN-Je7",
    "outputId": "fb148dc9-fb7f-4b27-d3d2-402db788b19b"
   },
   "outputs": [
    {
     "name": "stdout",
     "output_type": "stream",
     "text": [
      "(62, 100, 100, 3)\n",
      "(62, 1)\n"
     ]
    }
   ],
   "source": [
    "print(x_train.shape)\n",
    "print(y_train.shape)"
   ]
  },
  {
   "cell_type": "code",
   "execution_count": 198,
   "metadata": {
    "id": "8kVwG1rpFHFx"
   },
   "outputs": [],
   "source": [
    "def run_experiment(model):\n",
    "    optimizer = tfa.optimizers.AdamW(\n",
    "        learning_rate=learning_rate, weight_decay=weight_decay\n",
    "    )\n",
    "\n",
    "    model.compile(\n",
    "        optimizer=optimizer,\n",
    "\n",
    "        loss='binary_crossentropy',\n",
    "        metrics=['accuracy']\n",
    "    )\n",
    "    \n",
    "    model.summary()\n",
    "  \n",
    "    checkpoint_filepath = \"/tmp/checkpoint\"\n",
    "    checkpoint_callback = keras.callbacks.ModelCheckpoint(\n",
    "        checkpoint_filepath,\n",
    "        monitor=\"val_accuracy\",\n",
    "        save_best_only=True,\n",
    "        save_weights_only=True,\n",
    "    )\n",
    "    \n",
    "    history = model.fit(\n",
    "        x=x_train,\n",
    "        y=y_train,\n",
    "        batch_size=batch_size,\n",
    "        epochs=num_epochs,\n",
    "        validation_split=0.2,\n",
    "        callbacks=[checkpoint_callback],\n",
    "    )\n",
    "\n",
    "   \n",
    "    return history\n"
   ]
  },
  {
   "cell_type": "code",
   "execution_count": 199,
   "metadata": {
    "colab": {
     "base_uri": "https://localhost:8080/"
    },
    "id": "Ee3Y2l398Yh4",
    "outputId": "6cbcf641-de3f-45a6-ec9d-2989613ac861"
   },
   "outputs": [
    {
     "name": "stderr",
     "output_type": "stream",
     "text": [
      "WARNING:tensorflow:Using a while_loop for converting RngReadAndSkip cause there is no registered converter for this op.\n",
      "WARNING:tensorflow:Using a while_loop for converting Bitcast cause there is no registered converter for this op.\n",
      "WARNING:tensorflow:Using a while_loop for converting Bitcast cause there is no registered converter for this op.\n",
      "WARNING:tensorflow:Using a while_loop for converting StatelessRandomUniformV2 cause there is no registered converter for this op.\n",
      "WARNING:tensorflow:Using a while_loop for converting ImageProjectiveTransformV3 cause there is no registered converter for this op.\n",
      "WARNING:tensorflow:Using a while_loop for converting RngReadAndSkip cause there is no registered converter for this op.\n",
      "WARNING:tensorflow:Using a while_loop for converting Bitcast cause there is no registered converter for this op.\n",
      "WARNING:tensorflow:Using a while_loop for converting Bitcast cause there is no registered converter for this op.\n",
      "WARNING:tensorflow:Using a while_loop for converting StatelessRandomUniformV2 cause there is no registered converter for this op.\n",
      "WARNING:tensorflow:Using a while_loop for converting RngReadAndSkip cause there is no registered converter for this op.\n",
      "WARNING:tensorflow:Using a while_loop for converting Bitcast cause there is no registered converter for this op.\n",
      "WARNING:tensorflow:Using a while_loop for converting Bitcast cause there is no registered converter for this op.\n",
      "WARNING:tensorflow:Using a while_loop for converting StatelessRandomUniformV2 cause there is no registered converter for this op.\n",
      "WARNING:tensorflow:Using a while_loop for converting ImageProjectiveTransformV3 cause there is no registered converter for this op.\n",
      "WARNING:tensorflow:Using a while_loop for converting RngReadAndSkip cause there is no registered converter for this op.\n",
      "WARNING:tensorflow:Using a while_loop for converting Bitcast cause there is no registered converter for this op.\n",
      "WARNING:tensorflow:Using a while_loop for converting Bitcast cause there is no registered converter for this op.\n",
      "WARNING:tensorflow:Using a while_loop for converting StatelessRandomUniformV2 cause there is no registered converter for this op.\n",
      "WARNING:tensorflow:Using a while_loop for converting ImageProjectiveTransformV3 cause there is no registered converter for this op.\n",
      "WARNING:tensorflow:Using a while_loop for converting RngReadAndSkip cause there is no registered converter for this op.\n",
      "WARNING:tensorflow:Using a while_loop for converting Bitcast cause there is no registered converter for this op.\n",
      "WARNING:tensorflow:Using a while_loop for converting Bitcast cause there is no registered converter for this op.\n",
      "WARNING:tensorflow:Using a while_loop for converting StatelessRandomUniformV2 cause there is no registered converter for this op.\n",
      "WARNING:tensorflow:Using a while_loop for converting RngReadAndSkip cause there is no registered converter for this op.\n",
      "WARNING:tensorflow:Using a while_loop for converting Bitcast cause there is no registered converter for this op.\n",
      "WARNING:tensorflow:Using a while_loop for converting Bitcast cause there is no registered converter for this op.\n",
      "WARNING:tensorflow:Using a while_loop for converting StatelessRandomUniformV2 cause there is no registered converter for this op.\n",
      "WARNING:tensorflow:Using a while_loop for converting ImageProjectiveTransformV3 cause there is no registered converter for this op.\n"
     ]
    },
    {
     "name": "stdout",
     "output_type": "stream",
     "text": [
      "KerasTensor(type_spec=TensorSpec(shape=(None, 1), dtype=tf.float32, name=None), name='dense_99/BiasAdd:0', description=\"created by layer 'dense_99'\")\n",
      "(None, 100, 100, 3)\n",
      "(None, 1)\n"
     ]
    }
   ],
   "source": [
    "vit_classifier = create_vit_classifier()"
   ]
  },
  {
   "cell_type": "code",
   "execution_count": 200,
   "metadata": {
    "colab": {
     "base_uri": "https://localhost:8080/"
    },
    "id": "WGfQDLpn8ctc",
    "outputId": "6b9a8580-787d-4f92-8087-8b6e0cda98d6"
   },
   "outputs": [
    {
     "name": "stdout",
     "output_type": "stream",
     "text": [
      "Model: \"model_4\"\n",
      "__________________________________________________________________________________________________\n",
      " Layer (type)                   Output Shape         Param #     Connected to                     \n",
      "==================================================================================================\n",
      " input_5 (InputLayer)           [(None, 100, 100, 3  0           []                               \n",
      "                                )]                                                                \n",
      "                                                                                                  \n",
      " data_augmentation (Sequential)  (None, 72, 72, 3)   7           ['input_5[0][0]']                \n",
      "                                                                                                  \n",
      " patches_8 (Patches)            (None, None, 108)    0           ['data_augmentation[0][0]']      \n",
      "                                                                                                  \n",
      " patch_encoder_4 (PatchEncoder)  (None, 144, 64)     16192       ['patches_8[0][0]']              \n",
      "                                                                                                  \n",
      " layer_normalization_68 (LayerN  (None, 144, 64)     128         ['patch_encoder_4[0][0]']        \n",
      " ormalization)                                                                                    \n",
      "                                                                                                  \n",
      " multi_head_attention_32 (Multi  (None, 144, 64)     66368       ['layer_normalization_68[0][0]', \n",
      " HeadAttention)                                                   'layer_normalization_68[0][0]'] \n",
      "                                                                                                  \n",
      " add_64 (Add)                   (None, 144, 64)      0           ['multi_head_attention_32[0][0]',\n",
      "                                                                  'patch_encoder_4[0][0]']        \n",
      "                                                                                                  \n",
      " layer_normalization_69 (LayerN  (None, 144, 64)     128         ['add_64[0][0]']                 \n",
      " ormalization)                                                                                    \n",
      "                                                                                                  \n",
      " dense_81 (Dense)               (None, 144, 128)     8320        ['layer_normalization_69[0][0]'] \n",
      "                                                                                                  \n",
      " dropout_76 (Dropout)           (None, 144, 128)     0           ['dense_81[0][0]']               \n",
      "                                                                                                  \n",
      " dense_82 (Dense)               (None, 144, 64)      8256        ['dropout_76[0][0]']             \n",
      "                                                                                                  \n",
      " dropout_77 (Dropout)           (None, 144, 64)      0           ['dense_82[0][0]']               \n",
      "                                                                                                  \n",
      " add_65 (Add)                   (None, 144, 64)      0           ['dropout_77[0][0]',             \n",
      "                                                                  'add_64[0][0]']                 \n",
      "                                                                                                  \n",
      " layer_normalization_70 (LayerN  (None, 144, 64)     128         ['add_65[0][0]']                 \n",
      " ormalization)                                                                                    \n",
      "                                                                                                  \n",
      " multi_head_attention_33 (Multi  (None, 144, 64)     66368       ['layer_normalization_70[0][0]', \n",
      " HeadAttention)                                                   'layer_normalization_70[0][0]'] \n",
      "                                                                                                  \n",
      " add_66 (Add)                   (None, 144, 64)      0           ['multi_head_attention_33[0][0]',\n",
      "                                                                  'add_65[0][0]']                 \n",
      "                                                                                                  \n",
      " layer_normalization_71 (LayerN  (None, 144, 64)     128         ['add_66[0][0]']                 \n",
      " ormalization)                                                                                    \n",
      "                                                                                                  \n",
      " dense_83 (Dense)               (None, 144, 128)     8320        ['layer_normalization_71[0][0]'] \n",
      "                                                                                                  \n",
      " dropout_78 (Dropout)           (None, 144, 128)     0           ['dense_83[0][0]']               \n",
      "                                                                                                  \n",
      " dense_84 (Dense)               (None, 144, 64)      8256        ['dropout_78[0][0]']             \n",
      "                                                                                                  \n",
      " dropout_79 (Dropout)           (None, 144, 64)      0           ['dense_84[0][0]']               \n",
      "                                                                                                  \n",
      " add_67 (Add)                   (None, 144, 64)      0           ['dropout_79[0][0]',             \n",
      "                                                                  'add_66[0][0]']                 \n",
      "                                                                                                  \n",
      " layer_normalization_72 (LayerN  (None, 144, 64)     128         ['add_67[0][0]']                 \n",
      " ormalization)                                                                                    \n",
      "                                                                                                  \n",
      " multi_head_attention_34 (Multi  (None, 144, 64)     66368       ['layer_normalization_72[0][0]', \n",
      " HeadAttention)                                                   'layer_normalization_72[0][0]'] \n",
      "                                                                                                  \n",
      " add_68 (Add)                   (None, 144, 64)      0           ['multi_head_attention_34[0][0]',\n",
      "                                                                  'add_67[0][0]']                 \n",
      "                                                                                                  \n",
      " layer_normalization_73 (LayerN  (None, 144, 64)     128         ['add_68[0][0]']                 \n",
      " ormalization)                                                                                    \n",
      "                                                                                                  \n",
      " dense_85 (Dense)               (None, 144, 128)     8320        ['layer_normalization_73[0][0]'] \n",
      "                                                                                                  \n",
      " dropout_80 (Dropout)           (None, 144, 128)     0           ['dense_85[0][0]']               \n",
      "                                                                                                  \n",
      " dense_86 (Dense)               (None, 144, 64)      8256        ['dropout_80[0][0]']             \n",
      "                                                                                                  \n",
      " dropout_81 (Dropout)           (None, 144, 64)      0           ['dense_86[0][0]']               \n",
      "                                                                                                  \n",
      " add_69 (Add)                   (None, 144, 64)      0           ['dropout_81[0][0]',             \n",
      "                                                                  'add_68[0][0]']                 \n",
      "                                                                                                  \n",
      " layer_normalization_74 (LayerN  (None, 144, 64)     128         ['add_69[0][0]']                 \n",
      " ormalization)                                                                                    \n",
      "                                                                                                  \n",
      " multi_head_attention_35 (Multi  (None, 144, 64)     66368       ['layer_normalization_74[0][0]', \n",
      " HeadAttention)                                                   'layer_normalization_74[0][0]'] \n",
      "                                                                                                  \n",
      " add_70 (Add)                   (None, 144, 64)      0           ['multi_head_attention_35[0][0]',\n",
      "                                                                  'add_69[0][0]']                 \n",
      "                                                                                                  \n",
      " layer_normalization_75 (LayerN  (None, 144, 64)     128         ['add_70[0][0]']                 \n",
      " ormalization)                                                                                    \n",
      "                                                                                                  \n",
      " dense_87 (Dense)               (None, 144, 128)     8320        ['layer_normalization_75[0][0]'] \n",
      "                                                                                                  \n",
      " dropout_82 (Dropout)           (None, 144, 128)     0           ['dense_87[0][0]']               \n",
      "                                                                                                  \n",
      " dense_88 (Dense)               (None, 144, 64)      8256        ['dropout_82[0][0]']             \n",
      "                                                                                                  \n",
      " dropout_83 (Dropout)           (None, 144, 64)      0           ['dense_88[0][0]']               \n",
      "                                                                                                  \n",
      " add_71 (Add)                   (None, 144, 64)      0           ['dropout_83[0][0]',             \n",
      "                                                                  'add_70[0][0]']                 \n",
      "                                                                                                  \n",
      " layer_normalization_76 (LayerN  (None, 144, 64)     128         ['add_71[0][0]']                 \n",
      " ormalization)                                                                                    \n",
      "                                                                                                  \n",
      " multi_head_attention_36 (Multi  (None, 144, 64)     66368       ['layer_normalization_76[0][0]', \n",
      " HeadAttention)                                                   'layer_normalization_76[0][0]'] \n",
      "                                                                                                  \n",
      " add_72 (Add)                   (None, 144, 64)      0           ['multi_head_attention_36[0][0]',\n",
      "                                                                  'add_71[0][0]']                 \n",
      "                                                                                                  \n",
      " layer_normalization_77 (LayerN  (None, 144, 64)     128         ['add_72[0][0]']                 \n",
      " ormalization)                                                                                    \n",
      "                                                                                                  \n",
      " dense_89 (Dense)               (None, 144, 128)     8320        ['layer_normalization_77[0][0]'] \n",
      "                                                                                                  \n",
      " dropout_84 (Dropout)           (None, 144, 128)     0           ['dense_89[0][0]']               \n",
      "                                                                                                  \n",
      " dense_90 (Dense)               (None, 144, 64)      8256        ['dropout_84[0][0]']             \n",
      "                                                                                                  \n",
      " dropout_85 (Dropout)           (None, 144, 64)      0           ['dense_90[0][0]']               \n",
      "                                                                                                  \n",
      " add_73 (Add)                   (None, 144, 64)      0           ['dropout_85[0][0]',             \n",
      "                                                                  'add_72[0][0]']                 \n",
      "                                                                                                  \n",
      " layer_normalization_78 (LayerN  (None, 144, 64)     128         ['add_73[0][0]']                 \n",
      " ormalization)                                                                                    \n",
      "                                                                                                  \n",
      " multi_head_attention_37 (Multi  (None, 144, 64)     66368       ['layer_normalization_78[0][0]', \n",
      " HeadAttention)                                                   'layer_normalization_78[0][0]'] \n",
      "                                                                                                  \n",
      " add_74 (Add)                   (None, 144, 64)      0           ['multi_head_attention_37[0][0]',\n",
      "                                                                  'add_73[0][0]']                 \n",
      "                                                                                                  \n",
      " layer_normalization_79 (LayerN  (None, 144, 64)     128         ['add_74[0][0]']                 \n",
      " ormalization)                                                                                    \n",
      "                                                                                                  \n",
      " dense_91 (Dense)               (None, 144, 128)     8320        ['layer_normalization_79[0][0]'] \n",
      "                                                                                                  \n",
      " dropout_86 (Dropout)           (None, 144, 128)     0           ['dense_91[0][0]']               \n",
      "                                                                                                  \n",
      " dense_92 (Dense)               (None, 144, 64)      8256        ['dropout_86[0][0]']             \n",
      "                                                                                                  \n",
      " dropout_87 (Dropout)           (None, 144, 64)      0           ['dense_92[0][0]']               \n",
      "                                                                                                  \n",
      " add_75 (Add)                   (None, 144, 64)      0           ['dropout_87[0][0]',             \n",
      "                                                                  'add_74[0][0]']                 \n",
      "                                                                                                  \n",
      " layer_normalization_80 (LayerN  (None, 144, 64)     128         ['add_75[0][0]']                 \n",
      " ormalization)                                                                                    \n",
      "                                                                                                  \n",
      " multi_head_attention_38 (Multi  (None, 144, 64)     66368       ['layer_normalization_80[0][0]', \n",
      " HeadAttention)                                                   'layer_normalization_80[0][0]'] \n",
      "                                                                                                  \n",
      " add_76 (Add)                   (None, 144, 64)      0           ['multi_head_attention_38[0][0]',\n",
      "                                                                  'add_75[0][0]']                 \n",
      "                                                                                                  \n",
      " layer_normalization_81 (LayerN  (None, 144, 64)     128         ['add_76[0][0]']                 \n",
      " ormalization)                                                                                    \n",
      "                                                                                                  \n",
      " dense_93 (Dense)               (None, 144, 128)     8320        ['layer_normalization_81[0][0]'] \n",
      "                                                                                                  \n",
      " dropout_88 (Dropout)           (None, 144, 128)     0           ['dense_93[0][0]']               \n",
      "                                                                                                  \n",
      " dense_94 (Dense)               (None, 144, 64)      8256        ['dropout_88[0][0]']             \n",
      "                                                                                                  \n",
      " dropout_89 (Dropout)           (None, 144, 64)      0           ['dense_94[0][0]']               \n",
      "                                                                                                  \n",
      " add_77 (Add)                   (None, 144, 64)      0           ['dropout_89[0][0]',             \n",
      "                                                                  'add_76[0][0]']                 \n",
      "                                                                                                  \n",
      " layer_normalization_82 (LayerN  (None, 144, 64)     128         ['add_77[0][0]']                 \n",
      " ormalization)                                                                                    \n",
      "                                                                                                  \n",
      " multi_head_attention_39 (Multi  (None, 144, 64)     66368       ['layer_normalization_82[0][0]', \n",
      " HeadAttention)                                                   'layer_normalization_82[0][0]'] \n",
      "                                                                                                  \n",
      " add_78 (Add)                   (None, 144, 64)      0           ['multi_head_attention_39[0][0]',\n",
      "                                                                  'add_77[0][0]']                 \n",
      "                                                                                                  \n",
      " layer_normalization_83 (LayerN  (None, 144, 64)     128         ['add_78[0][0]']                 \n",
      " ormalization)                                                                                    \n",
      "                                                                                                  \n",
      " dense_95 (Dense)               (None, 144, 128)     8320        ['layer_normalization_83[0][0]'] \n",
      "                                                                                                  \n",
      " dropout_90 (Dropout)           (None, 144, 128)     0           ['dense_95[0][0]']               \n",
      "                                                                                                  \n",
      " dense_96 (Dense)               (None, 144, 64)      8256        ['dropout_90[0][0]']             \n",
      "                                                                                                  \n",
      " dropout_91 (Dropout)           (None, 144, 64)      0           ['dense_96[0][0]']               \n",
      "                                                                                                  \n",
      " add_79 (Add)                   (None, 144, 64)      0           ['dropout_91[0][0]',             \n",
      "                                                                  'add_78[0][0]']                 \n",
      "                                                                                                  \n",
      " layer_normalization_84 (LayerN  (None, 144, 64)     128         ['add_79[0][0]']                 \n",
      " ormalization)                                                                                    \n",
      "                                                                                                  \n",
      " flatten_4 (Flatten)            (None, 9216)         0           ['layer_normalization_84[0][0]'] \n",
      "                                                                                                  \n",
      " dropout_92 (Dropout)           (None, 9216)         0           ['flatten_4[0][0]']              \n",
      "                                                                                                  \n",
      " dense_97 (Dense)               (None, 2048)         18876416    ['dropout_92[0][0]']             \n",
      "                                                                                                  \n",
      " dropout_93 (Dropout)           (None, 2048)         0           ['dense_97[0][0]']               \n",
      "                                                                                                  \n",
      " dense_98 (Dense)               (None, 1024)         2098176     ['dropout_93[0][0]']             \n",
      "                                                                                                  \n",
      " dropout_94 (Dropout)           (None, 1024)         0           ['dense_98[0][0]']               \n",
      "                                                                                                  \n",
      " dense_99 (Dense)               (None, 1)            1025        ['dropout_94[0][0]']             \n",
      "                                                                                                  \n",
      "==================================================================================================\n",
      "Total params: 21,657,544\n",
      "Trainable params: 21,657,537\n",
      "Non-trainable params: 7\n",
      "__________________________________________________________________________________________________\n",
      "Epoch 1/100\n"
     ]
    },
    {
     "name": "stderr",
     "output_type": "stream",
     "text": [
      "WARNING:tensorflow:Using a while_loop for converting RngReadAndSkip cause there is no registered converter for this op.\n",
      "WARNING:tensorflow:Using a while_loop for converting Bitcast cause there is no registered converter for this op.\n",
      "WARNING:tensorflow:Using a while_loop for converting Bitcast cause there is no registered converter for this op.\n",
      "WARNING:tensorflow:Using a while_loop for converting StatelessRandomUniformV2 cause there is no registered converter for this op.\n",
      "WARNING:tensorflow:Using a while_loop for converting ImageProjectiveTransformV3 cause there is no registered converter for this op.\n",
      "WARNING:tensorflow:Using a while_loop for converting RngReadAndSkip cause there is no registered converter for this op.\n",
      "WARNING:tensorflow:Using a while_loop for converting Bitcast cause there is no registered converter for this op.\n",
      "WARNING:tensorflow:Using a while_loop for converting Bitcast cause there is no registered converter for this op.\n",
      "WARNING:tensorflow:Using a while_loop for converting StatelessRandomUniformV2 cause there is no registered converter for this op.\n",
      "WARNING:tensorflow:Using a while_loop for converting RngReadAndSkip cause there is no registered converter for this op.\n",
      "WARNING:tensorflow:Using a while_loop for converting Bitcast cause there is no registered converter for this op.\n",
      "WARNING:tensorflow:Using a while_loop for converting Bitcast cause there is no registered converter for this op.\n",
      "WARNING:tensorflow:Using a while_loop for converting StatelessRandomUniformV2 cause there is no registered converter for this op.\n",
      "WARNING:tensorflow:Using a while_loop for converting ImageProjectiveTransformV3 cause there is no registered converter for this op.\n",
      "WARNING:tensorflow:Using a while_loop for converting RngReadAndSkip cause there is no registered converter for this op.\n",
      "WARNING:tensorflow:Using a while_loop for converting Bitcast cause there is no registered converter for this op.\n",
      "WARNING:tensorflow:Using a while_loop for converting Bitcast cause there is no registered converter for this op.\n",
      "WARNING:tensorflow:Using a while_loop for converting StatelessRandomUniformV2 cause there is no registered converter for this op.\n",
      "WARNING:tensorflow:Using a while_loop for converting ImageProjectiveTransformV3 cause there is no registered converter for this op.\n",
      "WARNING:tensorflow:Using a while_loop for converting RngReadAndSkip cause there is no registered converter for this op.\n",
      "WARNING:tensorflow:Using a while_loop for converting Bitcast cause there is no registered converter for this op.\n",
      "WARNING:tensorflow:Using a while_loop for converting Bitcast cause there is no registered converter for this op.\n",
      "WARNING:tensorflow:Using a while_loop for converting StatelessRandomUniformV2 cause there is no registered converter for this op.\n",
      "WARNING:tensorflow:Using a while_loop for converting RngReadAndSkip cause there is no registered converter for this op.\n",
      "WARNING:tensorflow:Using a while_loop for converting Bitcast cause there is no registered converter for this op.\n",
      "WARNING:tensorflow:Using a while_loop for converting Bitcast cause there is no registered converter for this op.\n",
      "WARNING:tensorflow:Using a while_loop for converting StatelessRandomUniformV2 cause there is no registered converter for this op.\n",
      "WARNING:tensorflow:Using a while_loop for converting ImageProjectiveTransformV3 cause there is no registered converter for this op.\n"
     ]
    },
    {
     "name": "stdout",
     "output_type": "stream",
     "text": [
      "1/1 [==============================] - 19s 19s/step - loss: 5.7452 - accuracy: 0.5510 - val_loss: 7.2857 - val_accuracy: 0.4615\n",
      "Epoch 2/100\n",
      "1/1 [==============================] - 1s 534ms/step - loss: 7.5656 - accuracy: 0.4898 - val_loss: 7.2034 - val_accuracy: 0.4615\n",
      "Epoch 3/100\n",
      "1/1 [==============================] - 0s 436ms/step - loss: 7.5688 - accuracy: 0.4694 - val_loss: 8.2111 - val_accuracy: 0.4615\n",
      "Epoch 4/100\n",
      "1/1 [==============================] - 1s 557ms/step - loss: 7.2108 - accuracy: 0.5102 - val_loss: 8.2111 - val_accuracy: 0.4615\n",
      "Epoch 5/100\n",
      "1/1 [==============================] - 1s 709ms/step - loss: 6.7757 - accuracy: 0.4694 - val_loss: 8.2111 - val_accuracy: 0.4615\n",
      "Epoch 6/100\n",
      "1/1 [==============================] - 1s 702ms/step - loss: 6.3274 - accuracy: 0.5306 - val_loss: 8.2111 - val_accuracy: 0.4615\n",
      "Epoch 7/100\n",
      "1/1 [==============================] - 1s 719ms/step - loss: 6.9308 - accuracy: 0.5306 - val_loss: 8.2111 - val_accuracy: 0.4615\n",
      "Epoch 8/100\n",
      "1/1 [==============================] - 2s 2s/step - loss: 4.4573 - accuracy: 0.6531 - val_loss: 4.0973 - val_accuracy: 0.5385\n",
      "Epoch 9/100\n",
      "1/1 [==============================] - 2s 2s/step - loss: 6.7858 - accuracy: 0.4694 - val_loss: 2.5627 - val_accuracy: 0.7692\n",
      "Epoch 10/100\n",
      "1/1 [==============================] - 0s 460ms/step - loss: 5.1133 - accuracy: 0.6122 - val_loss: 3.6313 - val_accuracy: 0.6923\n",
      "Epoch 11/100\n",
      "1/1 [==============================] - 0s 424ms/step - loss: 4.5915 - accuracy: 0.5918 - val_loss: 3.6065 - val_accuracy: 0.7692\n",
      "Epoch 12/100\n",
      "1/1 [==============================] - 0s 421ms/step - loss: 7.3039 - accuracy: 0.4898 - val_loss: 1.7931 - val_accuracy: 0.6154\n",
      "Epoch 13/100\n",
      "1/1 [==============================] - 0s 407ms/step - loss: 6.0334 - accuracy: 0.5510 - val_loss: 6.0098 - val_accuracy: 0.4615\n",
      "Epoch 14/100\n",
      "1/1 [==============================] - 0s 415ms/step - loss: 6.9567 - accuracy: 0.4898 - val_loss: 7.1006 - val_accuracy: 0.4615\n",
      "Epoch 15/100\n",
      "1/1 [==============================] - 0s 426ms/step - loss: 6.9739 - accuracy: 0.4898 - val_loss: 8.2111 - val_accuracy: 0.4615\n",
      "Epoch 16/100\n",
      "1/1 [==============================] - 0s 421ms/step - loss: 7.1721 - accuracy: 0.5306 - val_loss: 8.2111 - val_accuracy: 0.4615\n",
      "Epoch 17/100\n",
      "1/1 [==============================] - 0s 435ms/step - loss: 5.7582 - accuracy: 0.5714 - val_loss: 8.2111 - val_accuracy: 0.4615\n",
      "Epoch 18/100\n",
      "1/1 [==============================] - 0s 419ms/step - loss: 6.6681 - accuracy: 0.5102 - val_loss: 6.1616 - val_accuracy: 0.4615\n",
      "Epoch 19/100\n",
      "1/1 [==============================] - 0s 446ms/step - loss: 7.5707 - accuracy: 0.4898 - val_loss: 7.1104 - val_accuracy: 0.4615\n",
      "Epoch 20/100\n",
      "1/1 [==============================] - 0s 409ms/step - loss: 5.6156 - accuracy: 0.6327 - val_loss: 7.0683 - val_accuracy: 0.5385\n",
      "Epoch 21/100\n",
      "1/1 [==============================] - 0s 406ms/step - loss: 5.9515 - accuracy: 0.5918 - val_loss: 5.1658 - val_accuracy: 0.5385\n",
      "Epoch 22/100\n",
      "1/1 [==============================] - 0s 438ms/step - loss: 6.6163 - accuracy: 0.5102 - val_loss: 4.9064 - val_accuracy: 0.5385\n",
      "Epoch 23/100\n",
      "1/1 [==============================] - 0s 421ms/step - loss: 5.2190 - accuracy: 0.5918 - val_loss: 7.0956 - val_accuracy: 0.5385\n",
      "Epoch 24/100\n",
      "1/1 [==============================] - 0s 430ms/step - loss: 5.3136 - accuracy: 0.6327 - val_loss: 7.1187 - val_accuracy: 0.4615\n",
      "Epoch 25/100\n",
      "1/1 [==============================] - 1s 650ms/step - loss: 7.5834 - accuracy: 0.4694 - val_loss: 7.1263 - val_accuracy: 0.4615\n",
      "Epoch 26/100\n",
      "1/1 [==============================] - 1s 697ms/step - loss: 6.9309 - accuracy: 0.5102 - val_loss: 7.3299 - val_accuracy: 0.4615\n",
      "Epoch 27/100\n",
      "1/1 [==============================] - 1s 729ms/step - loss: 7.1805 - accuracy: 0.5102 - val_loss: 8.2111 - val_accuracy: 0.4615\n",
      "Epoch 28/100\n",
      "1/1 [==============================] - 1s 593ms/step - loss: 6.2522 - accuracy: 0.5714 - val_loss: 8.2111 - val_accuracy: 0.4615\n",
      "Epoch 29/100\n",
      "1/1 [==============================] - 0s 434ms/step - loss: 7.4726 - accuracy: 0.5102 - val_loss: 8.2111 - val_accuracy: 0.4615\n",
      "Epoch 30/100\n",
      "1/1 [==============================] - 0s 435ms/step - loss: 5.3856 - accuracy: 0.6122 - val_loss: 8.2111 - val_accuracy: 0.4615\n",
      "Epoch 31/100\n",
      "1/1 [==============================] - 0s 445ms/step - loss: 6.9119 - accuracy: 0.5306 - val_loss: 8.2111 - val_accuracy: 0.4615\n",
      "Epoch 32/100\n",
      "1/1 [==============================] - 0s 420ms/step - loss: 5.6126 - accuracy: 0.6327 - val_loss: 7.0936 - val_accuracy: 0.4615\n",
      "Epoch 33/100\n",
      "1/1 [==============================] - 0s 424ms/step - loss: 7.2265 - accuracy: 0.4898 - val_loss: 7.0824 - val_accuracy: 0.5385\n",
      "Epoch 34/100\n",
      "1/1 [==============================] - 0s 410ms/step - loss: 6.8788 - accuracy: 0.5306 - val_loss: 7.0767 - val_accuracy: 0.5385\n",
      "Epoch 35/100\n",
      "1/1 [==============================] - 0s 427ms/step - loss: 7.5147 - accuracy: 0.4898 - val_loss: 4.8855 - val_accuracy: 0.5385\n",
      "Epoch 36/100\n",
      "1/1 [==============================] - 0s 435ms/step - loss: 6.3057 - accuracy: 0.5714 - val_loss: 3.6800 - val_accuracy: 0.6923\n",
      "Epoch 37/100\n",
      "1/1 [==============================] - 0s 429ms/step - loss: 5.9467 - accuracy: 0.5918 - val_loss: 2.4995 - val_accuracy: 0.7692\n",
      "Epoch 38/100\n",
      "1/1 [==============================] - 0s 429ms/step - loss: 5.6197 - accuracy: 0.6327 - val_loss: 3.5853 - val_accuracy: 0.7692\n",
      "Epoch 39/100\n",
      "1/1 [==============================] - 0s 417ms/step - loss: 5.6370 - accuracy: 0.6327 - val_loss: 3.7865 - val_accuracy: 0.6923\n",
      "Epoch 40/100\n",
      "1/1 [==============================] - 0s 415ms/step - loss: 5.1532 - accuracy: 0.5918 - val_loss: 4.7461 - val_accuracy: 0.6923\n",
      "Epoch 41/100\n",
      "1/1 [==============================] - 0s 475ms/step - loss: 5.0439 - accuracy: 0.6531 - val_loss: 4.7461 - val_accuracy: 0.6923\n",
      "Epoch 42/100\n",
      "1/1 [==============================] - 1s 812ms/step - loss: 4.8087 - accuracy: 0.6327 - val_loss: 4.7461 - val_accuracy: 0.6923\n",
      "Epoch 43/100\n",
      "1/1 [==============================] - 0s 495ms/step - loss: 5.0323 - accuracy: 0.6531 - val_loss: 6.0716 - val_accuracy: 0.5385\n",
      "Epoch 44/100\n",
      "1/1 [==============================] - 1s 875ms/step - loss: 4.7199 - accuracy: 0.6939 - val_loss: 7.1192 - val_accuracy: 0.5385\n",
      "Epoch 45/100\n",
      "1/1 [==============================] - 0s 457ms/step - loss: 6.3245 - accuracy: 0.5714 - val_loss: 7.1192 - val_accuracy: 0.5385\n",
      "Epoch 46/100\n",
      "1/1 [==============================] - 1s 827ms/step - loss: 5.4092 - accuracy: 0.6327 - val_loss: 7.1192 - val_accuracy: 0.5385\n",
      "Epoch 47/100\n",
      "1/1 [==============================] - 0s 412ms/step - loss: 6.1244 - accuracy: 0.5510 - val_loss: 7.1192 - val_accuracy: 0.5385\n",
      "Epoch 48/100\n",
      "1/1 [==============================] - 1s 539ms/step - loss: 4.4853 - accuracy: 0.6531 - val_loss: 7.1192 - val_accuracy: 0.5385\n",
      "Epoch 49/100\n",
      "1/1 [==============================] - 1s 765ms/step - loss: 6.9307 - accuracy: 0.5306 - val_loss: 7.1192 - val_accuracy: 0.5385\n",
      "Epoch 50/100\n",
      "1/1 [==============================] - 1s 696ms/step - loss: 4.5084 - accuracy: 0.6531 - val_loss: 6.1317 - val_accuracy: 0.5385\n",
      "Epoch 51/100\n",
      "1/1 [==============================] - 1s 710ms/step - loss: 5.6792 - accuracy: 0.6327 - val_loss: 4.7773 - val_accuracy: 0.6923\n",
      "Epoch 52/100\n",
      "1/1 [==============================] - 0s 448ms/step - loss: 6.0201 - accuracy: 0.5918 - val_loss: 4.7461 - val_accuracy: 0.6923\n",
      "Epoch 53/100\n",
      "1/1 [==============================] - 1s 524ms/step - loss: 5.9761 - accuracy: 0.5918 - val_loss: 4.7461 - val_accuracy: 0.6923\n",
      "Epoch 54/100\n",
      "1/1 [==============================] - 1s 880ms/step - loss: 5.7014 - accuracy: 0.5918 - val_loss: 4.7461 - val_accuracy: 0.6923\n",
      "Epoch 55/100\n",
      "1/1 [==============================] - 0s 440ms/step - loss: 3.1851 - accuracy: 0.7755 - val_loss: 4.7461 - val_accuracy: 0.6923\n",
      "Epoch 56/100\n",
      "1/1 [==============================] - 1s 911ms/step - loss: 5.0116 - accuracy: 0.6735 - val_loss: 4.7461 - val_accuracy: 0.6923\n",
      "Epoch 57/100\n",
      "1/1 [==============================] - 1s 547ms/step - loss: 4.4692 - accuracy: 0.6735 - val_loss: 4.7461 - val_accuracy: 0.6923\n",
      "Epoch 58/100\n",
      "1/1 [==============================] - 1s 762ms/step - loss: 4.3893 - accuracy: 0.6939 - val_loss: 4.7461 - val_accuracy: 0.6923\n",
      "Epoch 59/100\n",
      "1/1 [==============================] - 1s 633ms/step - loss: 4.8441 - accuracy: 0.6327 - val_loss: 3.6435 - val_accuracy: 0.6923\n",
      "Epoch 60/100\n",
      "1/1 [==============================] - 0s 490ms/step - loss: 4.3964 - accuracy: 0.7143 - val_loss: 3.5596 - val_accuracy: 0.7692\n",
      "Epoch 61/100\n",
      "1/1 [==============================] - 1s 566ms/step - loss: 4.5079 - accuracy: 0.6327 - val_loss: 3.5596 - val_accuracy: 0.7692\n",
      "Epoch 62/100\n",
      "1/1 [==============================] - 1s 691ms/step - loss: 4.4135 - accuracy: 0.6939 - val_loss: 3.5596 - val_accuracy: 0.7692\n",
      "Epoch 63/100\n",
      "1/1 [==============================] - 1s 737ms/step - loss: 4.1705 - accuracy: 0.6735 - val_loss: 3.5670 - val_accuracy: 0.7692\n",
      "Epoch 64/100\n",
      "1/1 [==============================] - 1s 674ms/step - loss: 5.4518 - accuracy: 0.5918 - val_loss: 3.5596 - val_accuracy: 0.7692\n",
      "Epoch 65/100\n",
      "1/1 [==============================] - 0s 450ms/step - loss: 4.4223 - accuracy: 0.6735 - val_loss: 3.5596 - val_accuracy: 0.7692\n",
      "Epoch 66/100\n",
      "1/1 [==============================] - 0s 415ms/step - loss: 3.7833 - accuracy: 0.7143 - val_loss: 3.5596 - val_accuracy: 0.7692\n",
      "Epoch 67/100\n",
      "1/1 [==============================] - 0s 415ms/step - loss: 5.6336 - accuracy: 0.6327 - val_loss: 3.5596 - val_accuracy: 0.7692\n",
      "Epoch 68/100\n",
      "1/1 [==============================] - 1s 574ms/step - loss: 3.5673 - accuracy: 0.7551 - val_loss: 3.5596 - val_accuracy: 0.7692\n",
      "Epoch 69/100\n",
      "1/1 [==============================] - 1s 721ms/step - loss: 4.8115 - accuracy: 0.6531 - val_loss: 3.5596 - val_accuracy: 0.7692\n",
      "Epoch 70/100\n",
      "1/1 [==============================] - 1s 690ms/step - loss: 3.8383 - accuracy: 0.7347 - val_loss: 3.5596 - val_accuracy: 0.7692\n",
      "Epoch 71/100\n",
      "1/1 [==============================] - 1s 739ms/step - loss: 5.6851 - accuracy: 0.5918 - val_loss: 3.5596 - val_accuracy: 0.7692\n",
      "Epoch 72/100\n",
      "1/1 [==============================] - 0s 427ms/step - loss: 4.7006 - accuracy: 0.6939 - val_loss: 3.5596 - val_accuracy: 0.7692\n",
      "Epoch 73/100\n",
      "1/1 [==============================] - 0s 418ms/step - loss: 4.4419 - accuracy: 0.6735 - val_loss: 3.5596 - val_accuracy: 0.7692\n",
      "Epoch 74/100\n",
      "1/1 [==============================] - 0s 415ms/step - loss: 4.4311 - accuracy: 0.6735 - val_loss: 3.5596 - val_accuracy: 0.7692\n",
      "Epoch 75/100\n",
      "1/1 [==============================] - 0s 410ms/step - loss: 4.3870 - accuracy: 0.7143 - val_loss: 3.5596 - val_accuracy: 0.7692\n",
      "Epoch 76/100\n",
      "1/1 [==============================] - 0s 427ms/step - loss: 4.7131 - accuracy: 0.6939 - val_loss: 3.5596 - val_accuracy: 0.7692\n",
      "Epoch 77/100\n",
      "1/1 [==============================] - 0s 414ms/step - loss: 3.9079 - accuracy: 0.6939 - val_loss: 3.5596 - val_accuracy: 0.7692\n",
      "Epoch 78/100\n",
      "1/1 [==============================] - 0s 425ms/step - loss: 5.0380 - accuracy: 0.6531 - val_loss: 4.7461 - val_accuracy: 0.6923\n",
      "Epoch 79/100\n",
      "1/1 [==============================] - 0s 422ms/step - loss: 5.0152 - accuracy: 0.6735 - val_loss: 4.7461 - val_accuracy: 0.6923\n",
      "Epoch 80/100\n",
      "1/1 [==============================] - 0s 438ms/step - loss: 5.6559 - accuracy: 0.6122 - val_loss: 4.7461 - val_accuracy: 0.6923\n",
      "Epoch 81/100\n",
      "1/1 [==============================] - 0s 430ms/step - loss: 5.4042 - accuracy: 0.6122 - val_loss: 4.7461 - val_accuracy: 0.6923\n",
      "Epoch 82/100\n",
      "1/1 [==============================] - 0s 421ms/step - loss: 5.0249 - accuracy: 0.6735 - val_loss: 4.7461 - val_accuracy: 0.6923\n",
      "Epoch 83/100\n",
      "1/1 [==============================] - 0s 422ms/step - loss: 5.0152 - accuracy: 0.6735 - val_loss: 4.7461 - val_accuracy: 0.6923\n",
      "Epoch 84/100\n",
      "1/1 [==============================] - 0s 416ms/step - loss: 3.8277 - accuracy: 0.7143 - val_loss: 4.7461 - val_accuracy: 0.6923\n",
      "Epoch 85/100\n",
      "1/1 [==============================] - 0s 429ms/step - loss: 5.0295 - accuracy: 0.6735 - val_loss: 4.7461 - val_accuracy: 0.6923\n",
      "Epoch 86/100\n",
      "1/1 [==============================] - 0s 456ms/step - loss: 3.7782 - accuracy: 0.7551 - val_loss: 4.7461 - val_accuracy: 0.6923\n",
      "Epoch 87/100\n",
      "1/1 [==============================] - 0s 430ms/step - loss: 5.3506 - accuracy: 0.6531 - val_loss: 4.7461 - val_accuracy: 0.6923\n",
      "Epoch 88/100\n",
      "1/1 [==============================] - 0s 434ms/step - loss: 5.4230 - accuracy: 0.6327 - val_loss: 4.7461 - val_accuracy: 0.6923\n",
      "Epoch 89/100\n",
      "1/1 [==============================] - 0s 435ms/step - loss: 5.6520 - accuracy: 0.6327 - val_loss: 4.7461 - val_accuracy: 0.6923\n",
      "Epoch 90/100\n",
      "1/1 [==============================] - 0s 436ms/step - loss: 4.4853 - accuracy: 0.6735 - val_loss: 4.7461 - val_accuracy: 0.6923\n",
      "Epoch 91/100\n",
      "1/1 [==============================] - 0s 433ms/step - loss: 5.6999 - accuracy: 0.6122 - val_loss: 4.7461 - val_accuracy: 0.6923\n",
      "Epoch 92/100\n",
      "1/1 [==============================] - 0s 420ms/step - loss: 5.3742 - accuracy: 0.6327 - val_loss: 4.7461 - val_accuracy: 0.6923\n",
      "Epoch 93/100\n",
      "1/1 [==============================] - 0s 417ms/step - loss: 5.9632 - accuracy: 0.6122 - val_loss: 4.7461 - val_accuracy: 0.6923\n",
      "Epoch 94/100\n",
      "1/1 [==============================] - 0s 422ms/step - loss: 5.3559 - accuracy: 0.6531 - val_loss: 4.7461 - val_accuracy: 0.6923\n",
      "Epoch 95/100\n",
      "1/1 [==============================] - 1s 667ms/step - loss: 4.0890 - accuracy: 0.7347 - val_loss: 4.7461 - val_accuracy: 0.6923\n",
      "Epoch 96/100\n",
      "1/1 [==============================] - 1s 744ms/step - loss: 5.3533 - accuracy: 0.6327 - val_loss: 4.7461 - val_accuracy: 0.6923\n",
      "Epoch 97/100\n",
      "1/1 [==============================] - 1s 718ms/step - loss: 4.2076 - accuracy: 0.7143 - val_loss: 4.7461 - val_accuracy: 0.6923\n",
      "Epoch 98/100\n",
      "1/1 [==============================] - 1s 645ms/step - loss: 5.3544 - accuracy: 0.6327 - val_loss: 4.7461 - val_accuracy: 0.6923\n",
      "Epoch 99/100\n",
      "1/1 [==============================] - 0s 448ms/step - loss: 5.0332 - accuracy: 0.6531 - val_loss: 3.5596 - val_accuracy: 0.7692\n",
      "Epoch 100/100\n",
      "1/1 [==============================] - 0s 455ms/step - loss: 6.2859 - accuracy: 0.5714 - val_loss: 3.5596 - val_accuracy: 0.7692\n"
     ]
    }
   ],
   "source": [
    "history = run_experiment(vit_classifier)"
   ]
  },
  {
   "cell_type": "code",
   "execution_count": 201,
   "metadata": {
    "colab": {
     "base_uri": "https://localhost:8080/",
     "height": 296
    },
    "id": "o-500xnWonlS",
    "outputId": "a3894d6e-15a8-4f5c-badd-77112ccf6b41"
   },
   "outputs": [
    {
     "data": {
      "text/plain": [
       "<matplotlib.legend.Legend at 0x7f9fe810e280>"
      ]
     },
     "execution_count": 201,
     "metadata": {},
     "output_type": "execute_result"
    },
    {
     "data": {
      "image/png": "[encoded data removed]",
      "text/plain": [
       "<Figure size 432x288 with 1 Axes>"
      ]
     },
     "metadata": {
      "needs_background": "light"
     },
     "output_type": "display_data"
    }
   ],
   "source": [
    "plt.plot(history.history['loss'], label='train loss')\n",
    "plt.plot(history.history['val_loss'], label='val loss')\n",
    "plt.xlabel(\"epoch\")\n",
    "plt.ylabel(\"Loss\")\n",
    "plt.legend()"
   ]
  },
  {
   "cell_type": "code",
   "execution_count": 202,
   "metadata": {
    "colab": {
     "base_uri": "https://localhost:8080/",
     "height": 296
    },
    "id": "chXLAsf45W2_",
    "outputId": "013b1128-8748-4f58-9dc9-c696fcab6610"
   },
   "outputs": [
    {
     "data": {
      "text/plain": [
       "<matplotlib.legend.Legend at 0x7f9feae9bd60>"
      ]
     },
     "execution_count": 202,
     "metadata": {},
     "output_type": "execute_result"
    },
    {
     "data": {
      "image/png": "[encoded data removed]",
      "text/plain": [
       "<Figure size 432x288 with 1 Axes>"
      ]
     },
     "metadata": {
      "needs_background": "light"
     },
     "output_type": "display_data"
    }
   ],
   "source": [
    "plt.plot(history.history['accuracy'], label='train accuracy')\n",
    "plt.plot(history.history['val_accuracy'], label='val accuracy')\n",
    "plt.xlabel(\"epoch\")\n",
    "plt.ylabel(\"Accuracy\")\n",
    "plt.legend()"
   ]
  },
  {
   "cell_type": "code",
   "execution_count": 136,
   "metadata": {
    "colab": {
     "base_uri": "https://localhost:8080/"
    },
    "id": "Sf0dhMaOpDqm",
    "outputId": "aa197dae-8918-476b-dca4-14909a53b9f3"
   },
   "outputs": [
    {
     "name": "stdout",
     "output_type": "stream",
     "text": [
      "62/62 [==============================] - 2s 11ms/step\n",
      "62\n"
     ]
    }
   ],
   "source": [
    "pred_train = vit_classifier.predict(x_train, batch_size=1)\n",
    "\n",
    "\n",
    "print(len(pred_train))"
   ]
  },
  {
   "cell_type": "code",
   "execution_count": 203,
   "metadata": {
    "colab": {
     "base_uri": "https://localhost:8080/"
    },
    "id": "gsuFJDWzhgmK",
    "outputId": "1df99944-8b25-48f2-c3a4-db8517693d54"
   },
   "outputs": [
    {
     "name": "stdout",
     "output_type": "stream",
     "text": [
      "[[ -8.]\n",
      " [ -5.]\n",
      " [ -5.]\n",
      " [  4.]\n",
      " [-11.]\n",
      " [ -5.]\n",
      " [ -7.]\n",
      " [  1.]\n",
      " [  2.]\n",
      " [ -0.]\n",
      " [  1.]\n",
      " [ -7.]\n",
      " [  4.]\n",
      " [  4.]\n",
      " [ -7.]\n",
      " [  5.]\n",
      " [-11.]\n",
      " [ -7.]\n",
      " [-10.]\n",
      " [ -1.]\n",
      " [ -8.]\n",
      " [ -7.]\n",
      " [-10.]\n",
      " [ -7.]\n",
      " [ -7.]\n",
      " [ -8.]\n",
      " [ -8.]\n",
      " [ -9.]\n",
      " [ -5.]\n",
      " [ -6.]\n",
      " [  4.]\n",
      " [  0.]\n",
      " [ -2.]\n",
      " [-10.]\n",
      " [  5.]\n",
      " [  2.]\n",
      " [ -7.]\n",
      " [ -8.]\n",
      " [ -8.]\n",
      " [ -8.]\n",
      " [ -2.]\n",
      " [-10.]\n",
      " [ -5.]\n",
      " [ -8.]\n",
      " [ -4.]\n",
      " [ -7.]\n",
      " [  4.]\n",
      " [ -6.]\n",
      " [-10.]\n",
      " [ -6.]\n",
      " [ -9.]\n",
      " [ -6.]\n",
      " [ -6.]\n",
      " [ -2.]\n",
      " [ -4.]\n",
      " [  2.]\n",
      " [  0.]\n",
      " [ -5.]\n",
      " [ -4.]\n",
      " [  3.]\n",
      " [  5.]\n",
      " [  2.]]\n"
     ]
    }
   ],
   "source": [
    "print(pred_train)"
   ]
  },
  {
   "cell_type": "code",
   "execution_count": 204,
   "metadata": {
    "id": "Og980R3pwl5e"
   },
   "outputs": [],
   "source": [
    "pred_train=pred_train.round()"
   ]
  },
  {
   "cell_type": "code",
   "execution_count": 205,
   "metadata": {
    "colab": {
     "base_uri": "https://localhost:8080/"
    },
    "id": "bXtBhmMJcIVs",
    "outputId": "7d4f253b-5129-4448-f6ac-14152934b009"
   },
   "outputs": [
    {
     "data": {
      "text/plain": [
       "array([-11., -10.,  -9.,  -8.,  -7.,  -6.,  -5.,  -4.,  -2.,  -1.,  -0.,\n",
       "         1.,   2.,   3.,   4.,   5.], dtype=float32)"
      ]
     },
     "execution_count": 205,
     "metadata": {},
     "output_type": "execute_result"
    }
   ],
   "source": [
    "np.unique(pred_train)"
   ]
  },
  {
   "cell_type": "code",
   "execution_count": 208,
   "metadata": {
    "colab": {
     "base_uri": "https://localhost:8080/"
    },
    "id": "S6qw9DqYbkJp",
    "outputId": "9445f710-10a2-4eac-96ae-7ce2c0ad999f"
   },
   "outputs": [
    {
     "name": "stdout",
     "output_type": "stream",
     "text": [
      "[0, 0, 0, 1, 0, 0, 0, 1, 1, 0, 1, 0, 1, 1, 0, 1, 0, 0, 0, 0, 0, 0, 0, 0, 0, 0, 0, 0, 0, 0, 1, 0, 0, 0, 1, 1, 0, 0, 0, 0, 0, 0, 0, 0, 0, 0, 1, 0, 0, 0, 0, 0, 0, 0, 0, 1, 0, 0, 0, 1, 1, 1]\n"
     ]
    }
   ],
   "source": [
    "train_pred=[]\n",
    "for i in range(len(pred_train)):\n",
    "  \n",
    "  if pred_train[i] > 0:\n",
    "    train_pred.append(1)\n",
    "  else:\n",
    "    train_pred.append(0)\n",
    "\n",
    "print(train_pred)"
   ]
  },
  {
   "cell_type": "code",
   "execution_count": 209,
   "metadata": {
    "id": "bRzpcaI4rcwN"
   },
   "outputs": [],
   "source": [
    "from sklearn.metrics import accuracy_score, precision_score, recall_score, f1_score, mean_squared_error, confusion_matrix, classification_report"
   ]
  },
  {
   "cell_type": "code",
   "execution_count": 210,
   "metadata": {
    "colab": {
     "base_uri": "https://localhost:8080/"
    },
    "id": "0A6ES8HVcZKU",
    "outputId": "2982a1cf-3f04-4612-ac5c-a41e65da5da9"
   },
   "outputs": [
    {
     "name": "stdout",
     "output_type": "stream",
     "text": [
      "0.5161290322580645\n"
     ]
    }
   ],
   "source": [
    "accuracy = accuracy_score(y_train, train_pred)\n",
    "print(accuracy)"
   ]
  },
  {
   "cell_type": "code",
   "execution_count": 211,
   "metadata": {
    "colab": {
     "base_uri": "https://localhost:8080/"
    },
    "id": "8lEQZnqZnkWJ",
    "outputId": "e350243e-65b8-4f12-d435-c17adbc42928"
   },
   "outputs": [
    {
     "name": "stdout",
     "output_type": "stream",
     "text": [
      "16/16 [==============================] - 2s 13ms/step\n"
     ]
    }
   ],
   "source": [
    "pred_test = vit_classifier.predict(x_test, batch_size=1)"
   ]
  },
  {
   "cell_type": "code",
   "execution_count": 212,
   "metadata": {
    "colab": {
     "base_uri": "https://localhost:8080/"
    },
    "id": "xfqWiQ8inw9c",
    "outputId": "2d5db9b9-2117-4320-df15-53b38e0ccad9"
   },
   "outputs": [
    {
     "name": "stdout",
     "output_type": "stream",
     "text": [
      "[[-6.813495 ]\n",
      " [ 4.9141364]\n",
      " [-2.7394145]\n",
      " [-2.6245594]\n",
      " [-7.2023306]\n",
      " [-4.5630937]\n",
      " [-5.537647 ]\n",
      " [ 7.265487 ]\n",
      " [13.274101 ]\n",
      " [13.769852 ]\n",
      " [13.481582 ]\n",
      " [-1.9741588]\n",
      " [-2.3832076]\n",
      " [10.124963 ]\n",
      " [-8.18595  ]\n",
      " [-2.6208062]]\n"
     ]
    }
   ],
   "source": [
    "print(pred_test)"
   ]
  },
  {
   "cell_type": "code",
   "execution_count": 213,
   "metadata": {
    "id": "uazVtOMyH9Ly"
   },
   "outputs": [],
   "source": [
    "pred_test=pred_test.round()"
   ]
  },
  {
   "cell_type": "code",
   "execution_count": 214,
   "metadata": {
    "colab": {
     "base_uri": "https://localhost:8080/"
    },
    "id": "iIm1cUgTH6CC",
    "outputId": "68d6e7f8-4de0-472e-987e-82e9bb8ccdba"
   },
   "outputs": [
    {
     "data": {
      "text/plain": [
       "array([-8., -7., -6., -5., -3., -2.,  5.,  7., 10., 13., 14.],\n",
       "      dtype=float32)"
      ]
     },
     "execution_count": 214,
     "metadata": {},
     "output_type": "execute_result"
    }
   ],
   "source": [
    "np.unique(pred_test)"
   ]
  },
  {
   "cell_type": "code",
   "execution_count": 215,
   "metadata": {
    "colab": {
     "base_uri": "https://localhost:8080/"
    },
    "id": "agMlsTp5n7F9",
    "outputId": "41d99cf7-7cc3-4f8f-9053-fc21c26016ec"
   },
   "outputs": [
    {
     "name": "stdout",
     "output_type": "stream",
     "text": [
      "[0, 1, 0, 0, 0, 0, 0, 1, 1, 1, 1, 0, 0, 1, 0, 0]\n"
     ]
    }
   ],
   "source": [
    "test_pred=[]\n",
    "for i in range(len(pred_test)):\n",
    "  \n",
    "  if pred_test[i] > 0:\n",
    "    test_pred.append(1)\n",
    "  else:\n",
    "    test_pred.append(0)\n",
    "\n",
    "print(test_pred)"
   ]
  },
  {
   "cell_type": "code",
   "execution_count": 216,
   "metadata": {
    "colab": {
     "base_uri": "https://localhost:8080/"
    },
    "id": "NrkrwnwgoOvi",
    "outputId": "b759a9d5-6301-4daa-81d0-4366d4309415"
   },
   "outputs": [
    {
     "name": "stdout",
     "output_type": "stream",
     "text": [
      "0.75\n"
     ]
    }
   ],
   "source": [
    "accuracy = accuracy_score(y_test, test_pred)\n",
    "print(accuracy)"
   ]
  },
  {
   "cell_type": "code",
   "execution_count": 217,
   "metadata": {
    "id": "uTSKPl5Arc9i"
   },
   "outputs": [],
   "source": [
    "report = classification_report(y_test, test_pred)"
   ]
  },
  {
   "cell_type": "code",
   "execution_count": 218,
   "metadata": {
    "colab": {
     "base_uri": "https://localhost:8080/"
    },
    "id": "YzKImoRSrGl9",
    "outputId": "a468a3d3-d030-4881-8269-31b8b151a0d5"
   },
   "outputs": [
    {
     "name": "stdout",
     "output_type": "stream",
     "text": [
      "Accuracy:  0.75\n",
      "Precision:  0.7666666666666666\n",
      "F1 Score 0.746031746031746\n",
      "Recall: 0.75\n",
      "              precision    recall  f1-score   support\n",
      "\n",
      "           0       0.70      0.88      0.78         8\n",
      "           1       0.83      0.62      0.71         8\n",
      "\n",
      "    accuracy                           0.75        16\n",
      "   macro avg       0.77      0.75      0.75        16\n",
      "weighted avg       0.77      0.75      0.75        16\n",
      "\n"
     ]
    }
   ],
   "source": [
    "accuracy = accuracy_score(y_test, test_pred)\n",
    "\n",
    "precision = precision_score(y_test, test_pred, average='weighted')\n",
    "f1 = f1_score(y_test, test_pred, average='weighted')\n",
    "recall = recall_score(y_test, test_pred, average='weighted')\n",
    "#Loss = history.history['loss'][4]\n",
    "#print(history.history['loss'])\n",
    "print(\"Accuracy: \", accuracy)\n",
    "print(\"Precision: \", precision)\n",
    "print(\"F1 Score\", f1)\n",
    "print(\"Recall:\", recall)\n",
    "report = classification_report(y_test, test_pred)\n",
    "print(report)"
   ]
  },
  {
   "cell_type": "code",
   "execution_count": 219,
   "metadata": {
    "id": "_-05NgGrpD9T"
   },
   "outputs": [],
   "source": [
    "import seaborn as sns"
   ]
  },
  {
   "cell_type": "code",
   "execution_count": 220,
   "metadata": {
    "colab": {
     "base_uri": "https://localhost:8080/",
     "height": 330
    },
    "id": "zdxKUFaJo2XV",
    "outputId": "9aa6e155-ae1a-4d4b-f41f-9787f381b2a7"
   },
   "outputs": [
    {
     "name": "stdout",
     "output_type": "stream",
     "text": [
      "[[7 1]\n",
      " [3 5]]\n"
     ]
    },
    {
     "data": {
      "image/png": "[encoded data removed]",
      "text/plain": [
       "<Figure size 504x288 with 2 Axes>"
      ]
     },
     "metadata": {
      "needs_background": "light"
     },
     "output_type": "display_data"
    }
   ],
   "source": [
    "cm = confusion_matrix(y_test, test_pred)\n",
    "print(cm)\n",
    "    \n",
    "    \n",
    "cm_df = pd.DataFrame(cm,\n",
    "                     index = ['Decrease','Increase'], \n",
    "                     columns = ['Decrease','Increase'])\n",
    "    #Plotting the confusion matrix\n",
    "plt.figure(figsize=(7,4))\n",
    "sns.heatmap(cm_df, annot=True, fmt ='g')\n",
    "plt.title('Confusion Matrix')\n",
    "plt.ylabel('Actual Values')\n",
    "plt.xlabel('Predicted Values')\n",
    "plt.show()"
   ]
  },
  {
   "cell_type": "code",
   "execution_count": 221,
   "metadata": {
    "colab": {
     "base_uri": "https://localhost:8080/",
     "height": 295
    },
    "id": "Iq23jKBxRMGp",
    "outputId": "f4a4093c-26b9-4eed-93ac-7d7fe9df45ff"
   },
   "outputs": [
    {
     "data": {
      "image/png": "[encoded data removed]",
      "text/plain": [
       "<Figure size 432x288 with 1 Axes>"
      ]
     },
     "metadata": {
      "needs_background": "light"
     },
     "output_type": "display_data"
    }
   ],
   "source": [
    "import matplotlib.pyplot as plt\n",
    "from sklearn.metrics import roc_curve, auc\n",
    "\n",
    "# assuming you have already trained a binary classification model and have predicted probabilities for the test set\n",
    "fpr, tpr, thresholds = roc_curve(y_test, test_pred)\n",
    "roc_auc = auc(fpr, tpr)\n",
    "\n",
    "# plot the ROC curve\n",
    "plt.plot(fpr, tpr, label='ROC curve (area = %0.2f)' % roc_auc)\n",
    "plt.plot([0, 1], [0, 1], 'k--')\n",
    "plt.xlim([0.0, 1.0])\n",
    "plt.ylim([0.0, 1.05])\n",
    "plt.xlabel('False Positive Rate')\n",
    "plt.ylabel('True Positive Rate')\n",
    "plt.title('Receiver operating characteristic')\n",
    "plt.legend(loc=\"lower right\")\n",
    "plt.show()"
   ]
  }
 ],
 "metadata": {
  "accelerator": "GPU",
  "colab": {
   "provenance": []
  },
  "gpuClass": "standard",
  "kernelspec": {
   "display_name": "Python 3 (ipykernel)",
   "language": "python",
   "name": "python3"
  },
  "language_info": {
   "codemirror_mode": {
    "name": "ipython",
    "version": 3
   },
   "file_extension": ".py",
   "mimetype": "text/x-python",
   "name": "python",
   "nbconvert_exporter": "python",
   "pygments_lexer": "ipython3",
   "version": "3.9.12"
  }
 },
 "nbformat": 4,
 "nbformat_minor": 1
}
