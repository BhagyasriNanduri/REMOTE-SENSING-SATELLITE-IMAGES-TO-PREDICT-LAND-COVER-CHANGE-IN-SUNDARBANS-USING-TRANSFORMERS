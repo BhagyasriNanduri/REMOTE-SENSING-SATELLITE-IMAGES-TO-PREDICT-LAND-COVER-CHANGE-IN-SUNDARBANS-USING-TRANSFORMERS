{
 "cells": [
  {
   "cell_type": "code",
   "execution_count": 1,
   "metadata": {
    "id": "vhqHjyhNEY1e"
   },
   "outputs": [
    {
     "name": "stderr",
     "output_type": "stream",
     "text": [
      "2023-03-30 12:44:39.181627: I tensorflow/core/platform/cpu_feature_guard.cc:193] This TensorFlow binary is optimized with oneAPI Deep Neural Network Library (oneDNN) to use the following CPU instructions in performance-critical operations:  AVX2 AVX512F AVX512_VNNI FMA\n",
      "To enable them in other operations, rebuild TensorFlow with the appropriate compiler flags.\n",
      "2023-03-30 12:44:39.325913: I tensorflow/core/util/util.cc:169] oneDNN custom operations are on. You may see slightly different numerical results due to floating-point round-off errors from different computation orders. To turn them off, set the environment variable `TF_ENABLE_ONEDNN_OPTS=0`.\n",
      "2023-03-30 12:44:39.333045: W tensorflow/stream_executor/platform/default/dso_loader.cc:64] Could not load dynamic library 'libcudart.so.11.0'; dlerror: libcudart.so.11.0: cannot open shared object file: No such file or directory\n",
      "2023-03-30 12:44:39.333061: I tensorflow/stream_executor/cuda/cudart_stub.cc:29] Ignore above cudart dlerror if you do not have a GPU set up on your machine.\n",
      "2023-03-30 12:44:39.376420: E tensorflow/stream_executor/cuda/cuda_blas.cc:2981] Unable to register cuBLAS factory: Attempting to register factory for plugin cuBLAS when one has already been registered\n",
      "2023-03-30 12:44:40.099243: W tensorflow/stream_executor/platform/default/dso_loader.cc:64] Could not load dynamic library 'libnvinfer.so.7'; dlerror: libnvinfer.so.7: cannot open shared object file: No such file or directory\n",
      "2023-03-30 12:44:40.099326: W tensorflow/stream_executor/platform/default/dso_loader.cc:64] Could not load dynamic library 'libnvinfer_plugin.so.7'; dlerror: libnvinfer_plugin.so.7: cannot open shared object file: No such file or directory\n",
      "2023-03-30 12:44:40.099335: W tensorflow/compiler/tf2tensorrt/utils/py_utils.cc:38] TF-TRT Warning: Cannot dlopen some TensorRT libraries. If you would like to use Nvidia GPU with TensorRT, please make sure the missing libraries mentioned above are installed properly.\n"
     ]
    }
   ],
   "source": [
    "import numpy as np\n",
    "import tensorflow as tf\n",
    "from tensorflow import keras\n",
    "from tensorflow.keras import layers\n",
    "import tensorflow_addons as tfa"
   ]
  },
  {
   "cell_type": "code",
   "execution_count": 2,
   "metadata": {
    "id": "_ZD815SQt-Hx"
   },
   "outputs": [],
   "source": [
    "import os\n",
    "from PIL import Image\n",
    "import numpy as np\n",
    "import tensorflow as tf\n",
    "from tensorflow import keras\n",
    "from sklearn.model_selection import train_test_split\n",
    "from imblearn.over_sampling import SMOTE"
   ]
  },
  {
   "cell_type": "code",
   "execution_count": 3,
   "metadata": {
    "id": "JnJypNGSJ7rl"
   },
   "outputs": [],
   "source": [
    "import pandas as pd"
   ]
  },
  {
   "cell_type": "code",
   "execution_count": 4,
   "metadata": {
    "id": "oHPQ0WIU44A6"
   },
   "outputs": [],
   "source": [
    "num_classes = 1\n",
    "input_shape = (1, 1,3)"
   ]
  },
  {
   "cell_type": "code",
   "execution_count": 5,
   "metadata": {
    "colab": {
     "base_uri": "https://localhost:8080/"
    },
    "id": "8fE_PWAEt8ya",
    "outputId": "11e3222b-20c8-41c3-c7bb-d7a812928d5c"
   },
   "outputs": [
    {
     "name": "stdout",
     "output_type": "stream",
     "text": [
      "(28, 32, 32, 3)\n",
      "Shape of image_data: (28672, 1, 1, 3)\n"
     ]
    }
   ],
   "source": [
    "path_to_images = 'images_136044_change'\n",
    "\n",
    "# Create an empty list to store the image data\n",
    "image_data_list = []\n",
    "\n",
    "\n",
    "# Loop through each file in the directory\n",
    "for i in os.listdir(path_to_images):\n",
    "  imagepath = path_to_images + '/' +str(i)\n",
    "  images = Image.open(imagepath)\n",
    "  #images.show()\n",
    "  \n",
    "  # Convert each image to a numpy array and append to the list\n",
    "  image_data_list.append(np.array(images.resize((32,32))))\n",
    "\n",
    "# Convert the list of image data to a numpy array\n",
    "image_data = np.array(image_data_list)\n",
    "print(image_data.shape)\n",
    "image_data = image_data.reshape(28672,1,1,3)\n",
    "\n",
    "# Print the shape of the numpy array\n",
    "print(\"Shape of image_data:\", image_data.shape)\n"
   ]
  },
  {
   "cell_type": "code",
   "execution_count": 6,
   "metadata": {
    "colab": {
     "base_uri": "https://localhost:8080/"
    },
    "id": "lCSrVh9b2adc",
    "outputId": "c3b3fe53-abfb-47ad-d26a-78afe0f63d86"
   },
   "outputs": [
    {
     "name": "stdout",
     "output_type": "stream",
     "text": [
      "Shape of Label_data: (28672, 1)\n"
     ]
    }
   ],
   "source": [
    "\n",
    "thresh = 200\n",
    "\n",
    "path_to_labels = 'images_136044_change_mask'\n",
    "\n",
    "# Create an empty list to store the label data\n",
    "label_data_list = []\n",
    "\n",
    "# Loop through each file in the directory\n",
    "for l in os.listdir(path_to_labels):\n",
    "  labelpath = path_to_labels + '/' +str(l)\n",
    "  labels = Image.open(labelpath)\n",
    "  fn = lambda x : 255 if x > thresh else 0\n",
    "  labels = labels.convert('L').point(fn, mode='1')\n",
    "  #labels.show()\n",
    "\n",
    "\n",
    "  # Convert each label to a numpy array and append to the list\n",
    "  label_data_list.append(np.array(labels.resize((32,32))))\n",
    "\n",
    "# Convert the list of label data to a numpy array\n",
    "label_data = np.array(label_data_list)\n",
    "label_data = label_data.reshape(28672,1)\n",
    "# Print the shape of the numpy array\n",
    "print(\"Shape of Label_data:\", label_data.shape)"
   ]
  },
  {
   "cell_type": "code",
   "execution_count": 7,
   "metadata": {
    "colab": {
     "base_uri": "https://localhost:8080/"
    },
    "id": "UtVqkLs3YlAf",
    "outputId": "81fee92c-ed2f-412f-9b09-7ca42a098455"
   },
   "outputs": [
    {
     "name": "stdout",
     "output_type": "stream",
     "text": [
      "28672\n"
     ]
    }
   ],
   "source": [
    "label_data=label_data.astype(int)\n",
    "print(len(label_data))"
   ]
  },
  {
   "cell_type": "code",
   "execution_count": 8,
   "metadata": {
    "colab": {
     "base_uri": "https://localhost:8080/"
    },
    "id": "Ww0u3RlErJSt",
    "outputId": "ad4b495b-f6a6-4c83-a2d4-57da106712e2"
   },
   "outputs": [
    {
     "name": "stdout",
     "output_type": "stream",
     "text": [
      "[[1]\n",
      " [1]\n",
      " [1]\n",
      " ...\n",
      " [1]\n",
      " [1]\n",
      " [1]]\n"
     ]
    }
   ],
   "source": [
    "print(label_data)"
   ]
  },
  {
   "cell_type": "code",
   "execution_count": 9,
   "metadata": {},
   "outputs": [],
   "source": [
    "image_data = image_data.reshape(28672,3)"
   ]
  },
  {
   "cell_type": "code",
   "execution_count": 10,
   "metadata": {},
   "outputs": [],
   "source": [
    "sm = SMOTE(random_state=42)\n",
    "image_data, label_data = sm.fit_resample(image_data, label_data)"
   ]
  },
  {
   "cell_type": "code",
   "execution_count": 11,
   "metadata": {},
   "outputs": [],
   "source": [
    "image_data = image_data.reshape(41916, 1, 1, 3)"
   ]
  },
  {
   "cell_type": "code",
   "execution_count": 12,
   "metadata": {},
   "outputs": [
    {
     "data": {
      "text/plain": [
       "(array([0, 1]), array([20958, 20958]))"
      ]
     },
     "execution_count": 12,
     "metadata": {},
     "output_type": "execute_result"
    }
   ],
   "source": [
    "np.unique(label_data, return_counts=True)"
   ]
  },
  {
   "cell_type": "code",
   "execution_count": 13,
   "metadata": {},
   "outputs": [
    {
     "data": {
      "text/plain": [
       "((41916, 1, 1, 3), (41916,))"
      ]
     },
     "execution_count": 13,
     "metadata": {},
     "output_type": "execute_result"
    }
   ],
   "source": [
    "image_data.shape, label_data.shape"
   ]
  },
  {
   "cell_type": "code",
   "execution_count": 14,
   "metadata": {},
   "outputs": [
    {
     "name": "stdout",
     "output_type": "stream",
     "text": [
      "Requirement already satisfied: fast-ml in /opt/miniconda3/lib/python3.9/site-packages (3.68)\n",
      "\u001b[33mWARNING: Running pip as the 'root' user can result in broken permissions and conflicting behaviour with the system package manager. It is recommended to use a virtual environment instead: https://pip.pypa.io/warnings/venv\u001b[0m\u001b[33m\n",
      "\u001b[0mNote: you may need to restart the kernel to use updated packages.\n"
     ]
    }
   ],
   "source": [
    "pip install fast-ml"
   ]
  },
  {
   "cell_type": "code",
   "execution_count": 25,
   "metadata": {},
   "outputs": [
    {
     "name": "stdout",
     "output_type": "stream",
     "text": [
      "(33532, 1, 1, 3)\n",
      "(33532, 1)\n",
      "(4192, 1, 1, 3)\n",
      "(4192, 1)\n",
      "(4192, 1, 1, 3)\n",
      "(4192, 1)\n"
     ]
    },
    {
     "data": {
      "text/plain": [
       "(None, None)"
      ]
     },
     "execution_count": 25,
     "metadata": {},
     "output_type": "execute_result"
    }
   ],
   "source": [
    "\n",
    "from sklearn.model_selection import train_test_split\n",
    "\n",
    "# Let's say we want to split the data in 80:10:10 for train:valid:test dataset\n",
    "train_size=0.8\n",
    "\n",
    "# In the first step we will split the data in training and remaining dataset\n",
    "x_train, x_rem, y_train, y_rem = train_test_split(image_data, label_data, train_size=0.8)\n",
    "\n",
    "# Now since we want the valid and test size to be equal (10% each of overall data). \n",
    "# we have to define valid_size=0.5 (that is 50% of remaining data)\n",
    "test_size = 0.5\n",
    "x_valid, x_test, y_valid, y_test = train_test_split(x_rem,y_rem, test_size=0.5)\n",
    "\n",
    "y_train = y_train.reshape(-1,1)\n",
    "y_test = y_test.reshape(-1,1)\n",
    "y_valid = y_valid.reshape(-1,1)\n",
    "print(x_train.shape), print(y_train.shape)\n",
    "print(x_valid.shape), print(y_valid.shape)\n",
    "print(x_test.shape), print(y_test.shape)"
   ]
  },
  {
   "cell_type": "code",
   "execution_count": 26,
   "metadata": {
    "colab": {
     "base_uri": "https://localhost:8080/"
    },
    "id": "JOvZA3NUuu1C",
    "outputId": "427a8497-f537-41a6-f5d2-a276682e5a2a"
   },
   "outputs": [
    {
     "name": "stdout",
     "output_type": "stream",
     "text": [
      "x_train shape: (33532, 1, 1, 3) - y_train shape: (33532,)\n",
      "x_test shape: (8384, 1, 1, 3) - y_test shape: (8384,)\n",
      "x_train shape: (33532, 1, 1, 3) - y_train shape: (33532, 1)\n",
      "x_test shape: (8384, 1, 1, 3) - y_test shape: (8384, 1)\n"
     ]
    }
   ],
   "source": [
    "#@title Default title text\n",
    "# Split the data into training and testing sets\n",
    "# Assuming that you have loaded your image and label data into x and y variables respectively\n",
    "x_train, x_test, y_train, y_test = train_test_split(image_data,label_data, test_size=0.2, random_state=42)\n",
    "\n",
    "print(f\"x_train shape: {x_train.shape} - y_train shape: {y_train.shape}\")\n",
    "print(f\"x_test shape: {x_test.shape} - y_test shape: {y_test.shape}\")\n",
    "\n",
    "y_train = y_train.reshape(-1,1)\n",
    "y_test = y_test.reshape(-1,1)\n",
    "\n",
    "print(f\"x_train shape: {x_train.shape} - y_train shape: {y_train.shape}\")\n",
    "print(f\"x_test shape: {x_test.shape} - y_test shape: {y_test.shape}\")"
   ]
  },
  {
   "cell_type": "code",
   "execution_count": 27,
   "metadata": {
    "id": "z41tQMwUEpDV"
   },
   "outputs": [],
   "source": [
    "learning_rate = 0.001\n",
    "weight_decay = 0.0001\n",
    "batch_size = 256\n",
    "num_epochs = 14\n",
    "image_size = 72 # We'll resize input images to this size\n",
    "patch_size = 6  # Size of the patches to be extract from the input images\n",
    "num_patches = (image_size // patch_size) ** 2\n",
    "projection_dim = 64\n",
    "num_heads = 4\n",
    "transformer_units = [\n",
    "    projection_dim * 2,\n",
    "    projection_dim,\n",
    "]  # Size of the transformer layers\n",
    "transformer_layers = 8\n",
    "mlp_head_units = [2048, 1024]  # Size of the dense layers of the final classifier"
   ]
  },
  {
   "cell_type": "code",
   "execution_count": 36,
   "metadata": {},
   "outputs": [],
   "source": [
    "data_augmentation = keras.Sequential(\n",
    "    [\n",
    "        layers.Normalization(),\n",
    "        layers.Resizing(image_size, image_size),\n",
    "        layers.RandomFlip(\"horizontal\"),\n",
    "        layers.RandomRotation(factor=0.02),\n",
    "        layers.RandomZoom(\n",
    "            height_factor=0.2, width_factor=0.2\n",
    "        ),\n",
    "    ],\n",
    "    name=\"data_augmentation\",\n",
    ")\n",
    "# Compute the mean and the variance of the training data for normalization.\n",
    "data_augmentation.layers[0].adapt(x_train)\n"
   ]
  },
  {
   "cell_type": "code",
   "execution_count": 37,
   "metadata": {
    "id": "_h8sWE1YEw2h"
   },
   "outputs": [],
   "source": [
    "def mlp(x, hidden_units, dropout_rate):\n",
    "    for units in hidden_units:\n",
    "        x = layers.Dense(units, activation=tf.nn.gelu)(x)\n",
    "        x = layers.Dropout(dropout_rate)(x)\n",
    "    return x"
   ]
  },
  {
   "cell_type": "code",
   "execution_count": 38,
   "metadata": {
    "id": "nGOSW97AE22T"
   },
   "outputs": [],
   "source": [
    "class Patches(layers.Layer):\n",
    "    def __init__(self, patch_size):\n",
    "        super().__init__()\n",
    "        self.patch_size = patch_size\n",
    "\n",
    "    def call(self, images):\n",
    "        batch_size = tf.shape(images)[0]\n",
    "        patches = tf.image.extract_patches(\n",
    "            images=images,\n",
    "            sizes=[1, self.patch_size, self.patch_size, 1],\n",
    "            strides=[1, self.patch_size, self.patch_size, 1],\n",
    "            rates=[1, 1, 1, 1],\n",
    "            padding=\"VALID\",\n",
    "            \n",
    "        )\n",
    "        patch_dims = patches.shape[-1]\n",
    "        patches = tf.reshape(patches, [batch_size, -1, patch_dims])\n",
    "        return patches\n"
   ]
  },
  {
   "cell_type": "code",
   "execution_count": 39,
   "metadata": {
    "colab": {
     "base_uri": "https://localhost:8080/",
     "height": 583
    },
    "id": "WQ6SgPDEE51h",
    "outputId": "d73562d0-60ef-4c5b-ad6c-86dbb2c4b4bf"
   },
   "outputs": [
    {
     "name": "stdout",
     "output_type": "stream",
     "text": [
      "256\n",
      "(1, 72, 72, 3)\n",
      "Image size: 72 X 72\n",
      "Patch size: 6 X 6\n",
      "Patches per image: 144\n",
      "Elements per patch: 108\n"
     ]
    },
    {
     "data": {
      "image/png": "[encoded data removed]",
      "text/plain": [
       "<Figure size 400x400 with 1 Axes>"
      ]
     },
     "metadata": {},
     "output_type": "display_data"
    },
    {
     "data": {
      "image/png": "[encoded data removed]",
      "text/plain": [
       "<Figure size 400x400 with 144 Axes>"
      ]
     },
     "metadata": {},
     "output_type": "display_data"
    }
   ],
   "source": [
    "import matplotlib.pyplot as plt\n",
    "\n",
    "plt.figure(figsize=(4, 4))\n",
    "image = x_train[np.random.choice(range(x_train.shape[0]))]\n",
    "plt.imshow(image.astype(\"uint8\"))\n",
    "plt.axis(\"off\")\n",
    "\n",
    "resized_image = tf.image.resize(\n",
    "    tf.convert_to_tensor([image]), size=(image_size, image_size)\n",
    ")\n",
    "\n",
    "#print(image)\n",
    "\n",
    "patches = Patches(patch_size)(resized_image)\n",
    "print(batch_size)\n",
    "print(resized_image.shape)\n",
    "print(f\"Image size: {image_size} X {image_size}\")\n",
    "print(f\"Patch size: {patch_size} X {patch_size}\")\n",
    "print(f\"Patches per image: {patches.shape[1]}\")\n",
    "print(f\"Elements per patch: {patches.shape[-1]}\")\n",
    "\n",
    "n = int(np.sqrt(patches.shape[1]))\n",
    "plt.figure(figsize=(4, 4))\n",
    "for i, patch in enumerate(patches[0]):\n",
    "    ax = plt.subplot(n, n, i + 1)\n",
    "    patch_img = tf.reshape(patch, (patch_size, patch_size, 3))\n",
    "    plt.imshow(patch_img.numpy().astype(\"uint8\"))\n",
    "    plt.axis(\"off\")"
   ]
  },
  {
   "cell_type": "code",
   "execution_count": 40,
   "metadata": {
    "id": "3idrgCsCFA-q"
   },
   "outputs": [],
   "source": [
    "class PatchEncoder(layers.Layer):\n",
    "    def __init__(self, num_patches, projection_dim):\n",
    "        super().__init__()\n",
    "        self.num_patches = num_patches\n",
    "        self.projection = layers.Dense(units=projection_dim)\n",
    "        self.position_embedding = layers.Embedding(\n",
    "            input_dim=num_patches, output_dim=projection_dim\n",
    "        )\n",
    "\n",
    "    def call(self, patch):\n",
    "        positions = tf.range(start=0, limit=self.num_patches, delta=1)\n",
    "        encoded = self.projection(patch) + self.position_embedding(positions)\n",
    "        return encoded"
   ]
  },
  {
   "cell_type": "code",
   "execution_count": 41,
   "metadata": {
    "id": "vTRW-vStFFGC"
   },
   "outputs": [],
   "source": [
    "def create_vit_classifier():\n",
    "    inputs = layers.Input(shape=input_shape)\n",
    "    # Augment data.\n",
    "    augmented = data_augmentation(inputs)\n",
    "    # Create patches.\n",
    "    patches = Patches(patch_size)(augmented)\n",
    "    # Encode patches.\n",
    "    encoded_patches = PatchEncoder(num_patches, projection_dim)(patches)\n",
    "\n",
    "    # Create multiple layers of the Transformer block.\n",
    "    for _ in range(transformer_layers):\n",
    "        # Layer normalization 1.\n",
    "        x1 = layers.LayerNormalization(epsilon=1e-6)(encoded_patches)\n",
    "        \n",
    "        # Create a multi-head attention layer.\n",
    "        attention_output = layers.MultiHeadAttention(\n",
    "            num_heads=num_heads, key_dim=projection_dim, dropout=0.1\n",
    "        )(x1, x1)\n",
    "        # Skip connection 1.\n",
    "        x2 = layers.Add()([attention_output, encoded_patches])\n",
    "        \n",
    "        # Layer normalization 2.\n",
    "        x3 = layers.LayerNormalization(epsilon=1e-6)(x2)\n",
    "        \n",
    "        # MLP.\n",
    "        x3 = mlp(x3, hidden_units=transformer_units, dropout_rate=0.1)\n",
    "        # Skip connection 2.\n",
    "        encoded_patches = layers.Add()([x3, x2])\n",
    "\n",
    "    # Create a [batch_size, projection_dim] tensor.\n",
    "    representation = layers.LayerNormalization(epsilon=1e-6)(encoded_patches)\n",
    "    representation = layers.Flatten()(representation)\n",
    "    representation = layers.Dropout(0.5)(representation)\n",
    "    # Add MLP.\n",
    "    features = mlp(representation, hidden_units=mlp_head_units, dropout_rate=0.5)\n",
    "    # Classify outputs.\n",
    "    logits = layers.Dense(num_classes)(features)\n",
    "    print(logits)\n",
    "    # Create the Keras model.\n",
    "    print(inputs.shape)\n",
    "    print(logits.shape)\n",
    "    model = keras.Model(inputs=inputs, outputs=logits)\n",
    "\n",
    "    return model"
   ]
  },
  {
   "cell_type": "code",
   "execution_count": 45,
   "metadata": {
    "id": "8kVwG1rpFHFx"
   },
   "outputs": [],
   "source": [
    "def run_experiment(model):\n",
    "    optimizer = tfa.optimizers.AdamW(\n",
    "        learning_rate=learning_rate, weight_decay=weight_decay\n",
    "    )\n",
    "\n",
    "    # model.compile(\n",
    "    #     optimizer = optimizer,\n",
    "    #     loss = 'categorical_crossentropy',\n",
    "    #     metrics=['accuracy']\n",
    "\n",
    "    # )\n",
    "\n",
    "    model.compile(\n",
    "        optimizer=optimizer,\n",
    "        # loss=keras.losses.SparseCategoricalCrossentropy(),\n",
    "        # metrics=[\n",
    "        #     keras.metrics.SparseCategoricalAccuracy(name=\"accuracy\"),\n",
    "        #     keras.metrics.SparseTopKCategoricalAccuracy(5, name=\"top-5-accuracy\"),\n",
    "        # ],\n",
    "        loss='binary_crossentropy',\n",
    "        metrics=['accuracy']\n",
    "    )\n",
    "    \n",
    "    model.summary()\n",
    "\n",
    "    #callback = tf.keras.callbacks.EarlyStopping(monitor='loss', patience=20)\n",
    "\n",
    "    checkpoint_filepath = \"/tmp/checkpoint\"\n",
    "    checkpoint_callback = keras.callbacks.ModelCheckpoint(\n",
    "        checkpoint_filepath,\n",
    "        monitor=\"val_accuracy\",\n",
    "        save_best_only=True,\n",
    "        save_weights_only=True,\n",
    "    )\n",
    "    \n",
    "\n",
    "\n",
    "    history = model.fit(\n",
    "        x=x_train,\n",
    "        y=y_train,\n",
    "        batch_size=batch_size,\n",
    "        epochs=num_epochs,\n",
    "        validation_data=(x_valid, y_valid),\n",
    "        #class_weight=class_weights,\n",
    "        callbacks=[checkpoint_callback],\n",
    "        use_multiprocessing = True\n",
    "    )\n",
    "\n",
    "   \n",
    "    return history\n"
   ]
  },
  {
   "cell_type": "code",
   "execution_count": 46,
   "metadata": {
    "colab": {
     "base_uri": "https://localhost:8080/"
    },
    "id": "Ee3Y2l398Yh4",
    "outputId": "0b6f1635-b8db-4daa-df9d-d78b04dfc14e"
   },
   "outputs": [
    {
     "name": "stdout",
     "output_type": "stream",
     "text": [
      "KerasTensor(type_spec=TensorSpec(shape=(None, 1), dtype=tf.float32, name=None), name='dense_39/BiasAdd:0', description=\"created by layer 'dense_39'\")\n",
      "(None, 1, 1, 3)\n",
      "(None, 1)\n"
     ]
    }
   ],
   "source": [
    "vit_classifier = create_vit_classifier()"
   ]
  },
  {
   "cell_type": "code",
   "execution_count": 47,
   "metadata": {
    "colab": {
     "base_uri": "https://localhost:8080/"
    },
    "id": "WGfQDLpn8ctc",
    "outputId": "6cc9add4-032d-4076-fa70-28ca03616dfe"
   },
   "outputs": [
    {
     "name": "stdout",
     "output_type": "stream",
     "text": [
      "Model: \"model_1\"\n",
      "__________________________________________________________________________________________________\n",
      " Layer (type)                   Output Shape         Param #     Connected to                     \n",
      "==================================================================================================\n",
      " input_3 (InputLayer)           [(None, 1, 1, 3)]    0           []                               \n",
      "                                                                                                  \n",
      " data_augmentation (Sequential)  (None, 72, 72, 3)   7           ['input_3[0][0]']                \n",
      "                                                                                                  \n",
      " patches_4 (Patches)            (None, None, 108)    0           ['data_augmentation[1][0]']      \n",
      "                                                                                                  \n",
      " patch_encoder_1 (PatchEncoder)  (None, 144, 64)     16192       ['patches_4[0][0]']              \n",
      "                                                                                                  \n",
      " layer_normalization_17 (LayerN  (None, 144, 64)     128         ['patch_encoder_1[0][0]']        \n",
      " ormalization)                                                                                    \n",
      "                                                                                                  \n",
      " multi_head_attention_8 (MultiH  (None, 144, 64)     66368       ['layer_normalization_17[0][0]', \n",
      " eadAttention)                                                    'layer_normalization_17[0][0]'] \n",
      "                                                                                                  \n",
      " add_16 (Add)                   (None, 144, 64)      0           ['multi_head_attention_8[0][0]', \n",
      "                                                                  'patch_encoder_1[0][0]']        \n",
      "                                                                                                  \n",
      " layer_normalization_18 (LayerN  (None, 144, 64)     128         ['add_16[0][0]']                 \n",
      " ormalization)                                                                                    \n",
      "                                                                                                  \n",
      " dense_21 (Dense)               (None, 144, 128)     8320        ['layer_normalization_18[0][0]'] \n",
      "                                                                                                  \n",
      " dropout_19 (Dropout)           (None, 144, 128)     0           ['dense_21[0][0]']               \n",
      "                                                                                                  \n",
      " dense_22 (Dense)               (None, 144, 64)      8256        ['dropout_19[0][0]']             \n",
      "                                                                                                  \n",
      " dropout_20 (Dropout)           (None, 144, 64)      0           ['dense_22[0][0]']               \n",
      "                                                                                                  \n",
      " add_17 (Add)                   (None, 144, 64)      0           ['dropout_20[0][0]',             \n",
      "                                                                  'add_16[0][0]']                 \n",
      "                                                                                                  \n",
      " layer_normalization_19 (LayerN  (None, 144, 64)     128         ['add_17[0][0]']                 \n",
      " ormalization)                                                                                    \n",
      "                                                                                                  \n",
      " multi_head_attention_9 (MultiH  (None, 144, 64)     66368       ['layer_normalization_19[0][0]', \n",
      " eadAttention)                                                    'layer_normalization_19[0][0]'] \n",
      "                                                                                                  \n",
      " add_18 (Add)                   (None, 144, 64)      0           ['multi_head_attention_9[0][0]', \n",
      "                                                                  'add_17[0][0]']                 \n",
      "                                                                                                  \n",
      " layer_normalization_20 (LayerN  (None, 144, 64)     128         ['add_18[0][0]']                 \n",
      " ormalization)                                                                                    \n",
      "                                                                                                  \n",
      " dense_23 (Dense)               (None, 144, 128)     8320        ['layer_normalization_20[0][0]'] \n",
      "                                                                                                  \n",
      " dropout_21 (Dropout)           (None, 144, 128)     0           ['dense_23[0][0]']               \n",
      "                                                                                                  \n",
      " dense_24 (Dense)               (None, 144, 64)      8256        ['dropout_21[0][0]']             \n",
      "                                                                                                  \n",
      " dropout_22 (Dropout)           (None, 144, 64)      0           ['dense_24[0][0]']               \n",
      "                                                                                                  \n",
      " add_19 (Add)                   (None, 144, 64)      0           ['dropout_22[0][0]',             \n",
      "                                                                  'add_18[0][0]']                 \n",
      "                                                                                                  \n",
      " layer_normalization_21 (LayerN  (None, 144, 64)     128         ['add_19[0][0]']                 \n",
      " ormalization)                                                                                    \n",
      "                                                                                                  \n",
      " multi_head_attention_10 (Multi  (None, 144, 64)     66368       ['layer_normalization_21[0][0]', \n",
      " HeadAttention)                                                   'layer_normalization_21[0][0]'] \n",
      "                                                                                                  \n",
      " add_20 (Add)                   (None, 144, 64)      0           ['multi_head_attention_10[0][0]',\n",
      "                                                                  'add_19[0][0]']                 \n",
      "                                                                                                  \n",
      " layer_normalization_22 (LayerN  (None, 144, 64)     128         ['add_20[0][0]']                 \n",
      " ormalization)                                                                                    \n",
      "                                                                                                  \n",
      " dense_25 (Dense)               (None, 144, 128)     8320        ['layer_normalization_22[0][0]'] \n",
      "                                                                                                  \n",
      " dropout_23 (Dropout)           (None, 144, 128)     0           ['dense_25[0][0]']               \n",
      "                                                                                                  \n",
      " dense_26 (Dense)               (None, 144, 64)      8256        ['dropout_23[0][0]']             \n",
      "                                                                                                  \n",
      " dropout_24 (Dropout)           (None, 144, 64)      0           ['dense_26[0][0]']               \n",
      "                                                                                                  \n",
      " add_21 (Add)                   (None, 144, 64)      0           ['dropout_24[0][0]',             \n",
      "                                                                  'add_20[0][0]']                 \n",
      "                                                                                                  \n",
      " layer_normalization_23 (LayerN  (None, 144, 64)     128         ['add_21[0][0]']                 \n",
      " ormalization)                                                                                    \n",
      "                                                                                                  \n",
      " multi_head_attention_11 (Multi  (None, 144, 64)     66368       ['layer_normalization_23[0][0]', \n",
      " HeadAttention)                                                   'layer_normalization_23[0][0]'] \n",
      "                                                                                                  \n",
      " add_22 (Add)                   (None, 144, 64)      0           ['multi_head_attention_11[0][0]',\n",
      "                                                                  'add_21[0][0]']                 \n",
      "                                                                                                  \n",
      " layer_normalization_24 (LayerN  (None, 144, 64)     128         ['add_22[0][0]']                 \n",
      " ormalization)                                                                                    \n",
      "                                                                                                  \n",
      " dense_27 (Dense)               (None, 144, 128)     8320        ['layer_normalization_24[0][0]'] \n",
      "                                                                                                  \n",
      " dropout_25 (Dropout)           (None, 144, 128)     0           ['dense_27[0][0]']               \n",
      "                                                                                                  \n",
      " dense_28 (Dense)               (None, 144, 64)      8256        ['dropout_25[0][0]']             \n",
      "                                                                                                  \n",
      " dropout_26 (Dropout)           (None, 144, 64)      0           ['dense_28[0][0]']               \n",
      "                                                                                                  \n",
      " add_23 (Add)                   (None, 144, 64)      0           ['dropout_26[0][0]',             \n",
      "                                                                  'add_22[0][0]']                 \n",
      "                                                                                                  \n",
      " layer_normalization_25 (LayerN  (None, 144, 64)     128         ['add_23[0][0]']                 \n",
      " ormalization)                                                                                    \n",
      "                                                                                                  \n",
      " multi_head_attention_12 (Multi  (None, 144, 64)     66368       ['layer_normalization_25[0][0]', \n",
      " HeadAttention)                                                   'layer_normalization_25[0][0]'] \n",
      "                                                                                                  \n",
      " add_24 (Add)                   (None, 144, 64)      0           ['multi_head_attention_12[0][0]',\n",
      "                                                                  'add_23[0][0]']                 \n",
      "                                                                                                  \n",
      " layer_normalization_26 (LayerN  (None, 144, 64)     128         ['add_24[0][0]']                 \n",
      " ormalization)                                                                                    \n",
      "                                                                                                  \n",
      " dense_29 (Dense)               (None, 144, 128)     8320        ['layer_normalization_26[0][0]'] \n",
      "                                                                                                  \n",
      " dropout_27 (Dropout)           (None, 144, 128)     0           ['dense_29[0][0]']               \n",
      "                                                                                                  \n",
      " dense_30 (Dense)               (None, 144, 64)      8256        ['dropout_27[0][0]']             \n",
      "                                                                                                  \n",
      " dropout_28 (Dropout)           (None, 144, 64)      0           ['dense_30[0][0]']               \n",
      "                                                                                                  \n",
      " add_25 (Add)                   (None, 144, 64)      0           ['dropout_28[0][0]',             \n",
      "                                                                  'add_24[0][0]']                 \n",
      "                                                                                                  \n",
      " layer_normalization_27 (LayerN  (None, 144, 64)     128         ['add_25[0][0]']                 \n",
      " ormalization)                                                                                    \n",
      "                                                                                                  \n",
      " multi_head_attention_13 (Multi  (None, 144, 64)     66368       ['layer_normalization_27[0][0]', \n",
      " HeadAttention)                                                   'layer_normalization_27[0][0]'] \n",
      "                                                                                                  \n",
      " add_26 (Add)                   (None, 144, 64)      0           ['multi_head_attention_13[0][0]',\n",
      "                                                                  'add_25[0][0]']                 \n",
      "                                                                                                  \n",
      " layer_normalization_28 (LayerN  (None, 144, 64)     128         ['add_26[0][0]']                 \n",
      " ormalization)                                                                                    \n",
      "                                                                                                  \n",
      " dense_31 (Dense)               (None, 144, 128)     8320        ['layer_normalization_28[0][0]'] \n",
      "                                                                                                  \n",
      " dropout_29 (Dropout)           (None, 144, 128)     0           ['dense_31[0][0]']               \n",
      "                                                                                                  \n",
      " dense_32 (Dense)               (None, 144, 64)      8256        ['dropout_29[0][0]']             \n",
      "                                                                                                  \n",
      " dropout_30 (Dropout)           (None, 144, 64)      0           ['dense_32[0][0]']               \n",
      "                                                                                                  \n",
      " add_27 (Add)                   (None, 144, 64)      0           ['dropout_30[0][0]',             \n",
      "                                                                  'add_26[0][0]']                 \n",
      "                                                                                                  \n",
      " layer_normalization_29 (LayerN  (None, 144, 64)     128         ['add_27[0][0]']                 \n",
      " ormalization)                                                                                    \n",
      "                                                                                                  \n",
      " multi_head_attention_14 (Multi  (None, 144, 64)     66368       ['layer_normalization_29[0][0]', \n",
      " HeadAttention)                                                   'layer_normalization_29[0][0]'] \n",
      "                                                                                                  \n",
      " add_28 (Add)                   (None, 144, 64)      0           ['multi_head_attention_14[0][0]',\n",
      "                                                                  'add_27[0][0]']                 \n",
      "                                                                                                  \n",
      " layer_normalization_30 (LayerN  (None, 144, 64)     128         ['add_28[0][0]']                 \n",
      " ormalization)                                                                                    \n",
      "                                                                                                  \n",
      " dense_33 (Dense)               (None, 144, 128)     8320        ['layer_normalization_30[0][0]'] \n",
      "                                                                                                  \n",
      " dropout_31 (Dropout)           (None, 144, 128)     0           ['dense_33[0][0]']               \n",
      "                                                                                                  \n",
      " dense_34 (Dense)               (None, 144, 64)      8256        ['dropout_31[0][0]']             \n",
      "                                                                                                  \n",
      " dropout_32 (Dropout)           (None, 144, 64)      0           ['dense_34[0][0]']               \n",
      "                                                                                                  \n",
      " add_29 (Add)                   (None, 144, 64)      0           ['dropout_32[0][0]',             \n",
      "                                                                  'add_28[0][0]']                 \n",
      "                                                                                                  \n",
      " layer_normalization_31 (LayerN  (None, 144, 64)     128         ['add_29[0][0]']                 \n",
      " ormalization)                                                                                    \n",
      "                                                                                                  \n",
      " multi_head_attention_15 (Multi  (None, 144, 64)     66368       ['layer_normalization_31[0][0]', \n",
      " HeadAttention)                                                   'layer_normalization_31[0][0]'] \n",
      "                                                                                                  \n",
      " add_30 (Add)                   (None, 144, 64)      0           ['multi_head_attention_15[0][0]',\n",
      "                                                                  'add_29[0][0]']                 \n",
      "                                                                                                  \n",
      " layer_normalization_32 (LayerN  (None, 144, 64)     128         ['add_30[0][0]']                 \n",
      " ormalization)                                                                                    \n",
      "                                                                                                  \n",
      " dense_35 (Dense)               (None, 144, 128)     8320        ['layer_normalization_32[0][0]'] \n",
      "                                                                                                  \n",
      " dropout_33 (Dropout)           (None, 144, 128)     0           ['dense_35[0][0]']               \n",
      "                                                                                                  \n",
      " dense_36 (Dense)               (None, 144, 64)      8256        ['dropout_33[0][0]']             \n",
      "                                                                                                  \n",
      " dropout_34 (Dropout)           (None, 144, 64)      0           ['dense_36[0][0]']               \n",
      "                                                                                                  \n",
      " add_31 (Add)                   (None, 144, 64)      0           ['dropout_34[0][0]',             \n",
      "                                                                  'add_30[0][0]']                 \n",
      "                                                                                                  \n",
      " layer_normalization_33 (LayerN  (None, 144, 64)     128         ['add_31[0][0]']                 \n",
      " ormalization)                                                                                    \n",
      "                                                                                                  \n",
      " flatten_1 (Flatten)            (None, 9216)         0           ['layer_normalization_33[0][0]'] \n",
      "                                                                                                  \n",
      " dropout_35 (Dropout)           (None, 9216)         0           ['flatten_1[0][0]']              \n",
      "                                                                                                  \n",
      " dense_37 (Dense)               (None, 2048)         18876416    ['dropout_35[0][0]']             \n",
      "                                                                                                  \n",
      " dropout_36 (Dropout)           (None, 2048)         0           ['dense_37[0][0]']               \n",
      "                                                                                                  \n",
      " dense_38 (Dense)               (None, 1024)         2098176     ['dropout_36[0][0]']             \n",
      "                                                                                                  \n",
      " dropout_37 (Dropout)           (None, 1024)         0           ['dense_38[0][0]']               \n",
      "                                                                                                  \n",
      " dense_39 (Dense)               (None, 1)            1025        ['dropout_37[0][0]']             \n",
      "                                                                                                  \n",
      "==================================================================================================\n",
      "Total params: 21,657,544\n",
      "Trainable params: 21,657,537\n",
      "Non-trainable params: 7\n",
      "__________________________________________________________________________________________________\n",
      "Epoch 1/14\n",
      "WARNING:tensorflow:Using a while_loop for converting RngReadAndSkip cause there is no registered converter for this op.\n",
      "WARNING:tensorflow:Using a while_loop for converting Bitcast cause there is no registered converter for this op.\n",
      "WARNING:tensorflow:Using a while_loop for converting Bitcast cause there is no registered converter for this op.\n",
      "WARNING:tensorflow:Using a while_loop for converting StatelessRandomUniformV2 cause there is no registered converter for this op.\n",
      "WARNING:tensorflow:Using a while_loop for converting ImageProjectiveTransformV3 cause there is no registered converter for this op.\n",
      "WARNING:tensorflow:Using a while_loop for converting RngReadAndSkip cause there is no registered converter for this op.\n",
      "WARNING:tensorflow:Using a while_loop for converting Bitcast cause there is no registered converter for this op.\n",
      "WARNING:tensorflow:Using a while_loop for converting Bitcast cause there is no registered converter for this op.\n",
      "WARNING:tensorflow:Using a while_loop for converting StatelessRandomUniformV2 cause there is no registered converter for this op.\n",
      "WARNING:tensorflow:Using a while_loop for converting RngReadAndSkip cause there is no registered converter for this op.\n",
      "WARNING:tensorflow:Using a while_loop for converting Bitcast cause there is no registered converter for this op.\n",
      "WARNING:tensorflow:Using a while_loop for converting Bitcast cause there is no registered converter for this op.\n",
      "WARNING:tensorflow:Using a while_loop for converting StatelessRandomUniformV2 cause there is no registered converter for this op.\n",
      "WARNING:tensorflow:Using a while_loop for converting ImageProjectiveTransformV3 cause there is no registered converter for this op.\n",
      "WARNING:tensorflow:Using a while_loop for converting RngReadAndSkip cause there is no registered converter for this op.\n",
      "WARNING:tensorflow:Using a while_loop for converting Bitcast cause there is no registered converter for this op.\n",
      "WARNING:tensorflow:Using a while_loop for converting Bitcast cause there is no registered converter for this op.\n",
      "WARNING:tensorflow:Using a while_loop for converting StatelessRandomUniformV2 cause there is no registered converter for this op.\n",
      "WARNING:tensorflow:Using a while_loop for converting ImageProjectiveTransformV3 cause there is no registered converter for this op.\n",
      "WARNING:tensorflow:Using a while_loop for converting RngReadAndSkip cause there is no registered converter for this op.\n",
      "WARNING:tensorflow:Using a while_loop for converting Bitcast cause there is no registered converter for this op.\n",
      "WARNING:tensorflow:Using a while_loop for converting Bitcast cause there is no registered converter for this op.\n",
      "WARNING:tensorflow:Using a while_loop for converting StatelessRandomUniformV2 cause there is no registered converter for this op.\n",
      "WARNING:tensorflow:Using a while_loop for converting RngReadAndSkip cause there is no registered converter for this op.\n",
      "WARNING:tensorflow:Using a while_loop for converting Bitcast cause there is no registered converter for this op.\n",
      "WARNING:tensorflow:Using a while_loop for converting Bitcast cause there is no registered converter for this op.\n",
      "WARNING:tensorflow:Using a while_loop for converting StatelessRandomUniformV2 cause there is no registered converter for this op.\n",
      "WARNING:tensorflow:Using a while_loop for converting ImageProjectiveTransformV3 cause there is no registered converter for this op.\n",
      "131/131 [==============================] - 1394s 11s/step - loss: 1.9818 - accuracy: 0.8704 - val_loss: 1.8746 - val_accuracy: 0.8779\n",
      "Epoch 2/14\n",
      "131/131 [==============================] - 1444s 11s/step - loss: 2.3309 - accuracy: 0.8481 - val_loss: 3.7131 - val_accuracy: 0.7569\n",
      "Epoch 3/14\n",
      "131/131 [==============================] - 1428s 11s/step - loss: 2.2189 - accuracy: 0.8553 - val_loss: 2.0934 - val_accuracy: 0.8635\n",
      "Epoch 4/14\n",
      "131/131 [==============================] - 1141s 9s/step - loss: 2.1314 - accuracy: 0.8611 - val_loss: 2.0934 - val_accuracy: 0.8635\n",
      "Epoch 5/14\n",
      "131/131 [==============================] - 1114s 9s/step - loss: 3.4187 - accuracy: 0.7768 - val_loss: 3.5945 - val_accuracy: 0.7653\n",
      "Epoch 6/14\n",
      "131/131 [==============================] - 1100s 8s/step - loss: 2.4554 - accuracy: 0.8399 - val_loss: 2.2831 - val_accuracy: 0.8511\n",
      "Epoch 7/14\n",
      "131/131 [==============================] - 1128s 9s/step - loss: 2.2914 - accuracy: 0.8507 - val_loss: 2.2831 - val_accuracy: 0.8511\n",
      "Epoch 8/14\n",
      "131/131 [==============================] - 1112s 8s/step - loss: 2.4307 - accuracy: 0.8416 - val_loss: 2.6417 - val_accuracy: 0.8278\n",
      "Epoch 9/14\n",
      "131/131 [==============================] - 1126s 9s/step - loss: 2.5862 - accuracy: 0.8314 - val_loss: 2.6417 - val_accuracy: 0.8278\n",
      "Epoch 10/14\n",
      "131/131 [==============================] - 1100s 8s/step - loss: 2.5862 - accuracy: 0.8314 - val_loss: 2.6417 - val_accuracy: 0.8278\n",
      "Epoch 11/14\n",
      "131/131 [==============================] - 1207s 9s/step - loss: 2.6249 - accuracy: 0.8289 - val_loss: 3.8283 - val_accuracy: 0.7498\n",
      "Epoch 12/14\n",
      "131/131 [==============================] - 1439s 11s/step - loss: 2.3846 - accuracy: 0.8445 - val_loss: 2.1223 - val_accuracy: 0.8616\n",
      "Epoch 13/14\n",
      "131/131 [==============================] - 1447s 11s/step - loss: 2.1858 - accuracy: 0.8575 - val_loss: 2.1259 - val_accuracy: 0.8614\n",
      "Epoch 14/14\n",
      "131/131 [==============================] - 1258s 10s/step - loss: 2.1844 - accuracy: 0.8576 - val_loss: 2.1186 - val_accuracy: 0.8619\n"
     ]
    }
   ],
   "source": [
    "history = run_experiment(vit_classifier)"
   ]
  },
  {
   "cell_type": "code",
   "execution_count": 48,
   "metadata": {
    "colab": {
     "base_uri": "https://localhost:8080/",
     "height": 296
    },
    "id": "o-500xnWonlS",
    "outputId": "70c7b646-e9bf-4498-8071-5a198e665ceb"
   },
   "outputs": [
    {
     "data": {
      "image/png": "[encoded data removed]",
      "text/plain": [
       "<Figure size 640x480 with 1 Axes>"
      ]
     },
     "metadata": {},
     "output_type": "display_data"
    }
   ],
   "source": [
    "plt.plot(history.history['loss'], label='train loss')\n",
    "plt.plot(history.history['val_loss'], label='val loss')\n",
    "plt.xlabel(\"epoch\")\n",
    "plt.ylabel(\"Loss\")\n",
    "plt.legend()\n",
    "plt.savefig('Loss.png')"
   ]
  },
  {
   "cell_type": "code",
   "execution_count": 49,
   "metadata": {
    "colab": {
     "base_uri": "https://localhost:8080/",
     "height": 296
    },
    "id": "N-RO2mn3q8D4",
    "outputId": "2db8e5c0-ffc4-4c04-85e1-6c804999e7a6"
   },
   "outputs": [
    {
     "data": {
      "image/png": "[encoded data removed]",
      "text/plain": [
       "<Figure size 640x480 with 1 Axes>"
      ]
     },
     "metadata": {},
     "output_type": "display_data"
    }
   ],
   "source": [
    "plt.plot(history.history['accuracy'], label='train accuracy')\n",
    "plt.plot(history.history['val_accuracy'], label='val accuracy')\n",
    "plt.xlabel(\"epoch\")\n",
    "plt.ylabel(\"Accuracy\")\n",
    "plt.legend()\n",
    "plt.savefig('Accuracy.png')"
   ]
  },
  {
   "cell_type": "code",
   "execution_count": 53,
   "metadata": {
    "colab": {
     "base_uri": "https://localhost:8080/"
    },
    "id": "Sf0dhMaOpDqm",
    "outputId": "c3b7ddb1-31e9-45a5-ec27-01f362d461bf"
   },
   "outputs": [
    {
     "name": "stdout",
     "output_type": "stream",
     "text": [
      "131/131 [==============================] - 396s 3s/step\n",
      "33532\n"
     ]
    }
   ],
   "source": [
    "pred_train = vit_classifier.predict(x_train, batch_size=256)\n",
    "\n",
    "\n",
    "print(len(pred_train))"
   ]
  },
  {
   "cell_type": "code",
   "execution_count": 54,
   "metadata": {
    "colab": {
     "base_uri": "https://localhost:8080/"
    },
    "id": "gsuFJDWzhgmK",
    "outputId": "f4f8c5d2-14cd-47f5-c131-2d2c0c422db0"
   },
   "outputs": [
    {
     "name": "stdout",
     "output_type": "stream",
     "text": [
      "[[-2172.1711 ]\n",
      " [-2151.871  ]\n",
      " [-2163.9138 ]\n",
      " ...\n",
      " [-2214.1685 ]\n",
      " [  762.77856]\n",
      " [-2175.2812 ]]\n"
     ]
    }
   ],
   "source": [
    "print(pred_train)"
   ]
  },
  {
   "cell_type": "code",
   "execution_count": 55,
   "metadata": {
    "id": "Og980R3pwl5e"
   },
   "outputs": [],
   "source": [
    "pred_train=pred_train.round()"
   ]
  },
  {
   "cell_type": "code",
   "execution_count": 56,
   "metadata": {
    "colab": {
     "base_uri": "https://localhost:8080/"
    },
    "id": "bXtBhmMJcIVs",
    "outputId": "399ca38c-bd2b-42b7-bd83-a44c86d5d177"
   },
   "outputs": [
    {
     "data": {
      "text/plain": [
       "array([-2316., -2308., -2304., -2303., -2302., -2300., -2299., -2298.,\n",
       "       -2297., -2296., -2295., -2294., -2293., -2292., -2291., -2290.,\n",
       "       -2289., -2288., -2287., -2286., -2285., -2284., -2283., -2282.,\n",
       "       -2281., -2280., -2279., -2278., -2277., -2276., -2275., -2274.,\n",
       "       -2273., -2272., -2271., -2270., -2269., -2268., -2267., -2266.,\n",
       "       -2265., -2264., -2263., -2262., -2261., -2260., -2259., -2258.,\n",
       "       -2257., -2256., -2255., -2254., -2253., -2252., -2251., -2250.,\n",
       "       -2249., -2248., -2247., -2246., -2245., -2244., -2243., -2242.,\n",
       "       -2241., -2240., -2239., -2238., -2237., -2236., -2235., -2234.,\n",
       "       -2233., -2232., -2231., -2230., -2229., -2228., -2227., -2226.,\n",
       "       -2225., -2224., -2223., -2222., -2221., -2220., -2219., -2218.,\n",
       "       -2217., -2216., -2215., -2214., -2213., -2212., -2211., -2210.,\n",
       "       -2209., -2208., -2207., -2206., -2205., -2204., -2203., -2202.,\n",
       "       -2201., -2200., -2199., -2198., -2197., -2196., -2195., -2194.,\n",
       "       -2193., -2192., -2191., -2190., -2189., -2188., -2187., -2186.,\n",
       "       -2185., -2184., -2183., -2182., -2181., -2180., -2179., -2178.,\n",
       "       -2177., -2176., -2175., -2174., -2173., -2172., -2171., -2170.,\n",
       "       -2169., -2168., -2167., -2166., -2165., -2164., -2163., -2162.,\n",
       "       -2161., -2160., -2159., -2158., -2157., -2156., -2155., -2154.,\n",
       "       -2153., -2152., -2151., -2150., -2149., -2148., -2147., -2146.,\n",
       "       -2145., -2144., -2143., -2142., -2141., -2140., -2139., -2138.,\n",
       "       -2137., -2136., -2135., -2134., -2133., -2132., -2131., -2130.,\n",
       "       -2129., -2128., -2127., -2126., -2125., -2124., -2123., -2122.,\n",
       "       -2121., -2120., -2119., -2118., -2117., -2116., -2115., -2114.,\n",
       "       -2113., -2112., -2111., -2110., -2109., -2108., -2107., -2106.,\n",
       "       -2105., -2104., -2103., -2102., -2101., -2100., -2099., -2098.,\n",
       "       -2097., -2096., -2095., -2094., -2093., -2092., -2091., -2090.,\n",
       "       -2088., -2087., -2086., -2085., -2084., -2083., -2082., -2081.,\n",
       "       -2080., -2079., -2078., -2077., -2076., -2075., -2074., -2073.,\n",
       "       -2072., -2071., -2070., -2069., -2068., -2067., -2066., -2065.,\n",
       "       -2064., -2063., -2060., -2059., -2058., -2057., -2056., -2054.,\n",
       "       -2053., -2051., -2050., -2049., -2048., -2047., -2046., -2045.,\n",
       "       -2044., -2043., -2041., -2040., -2039., -2038., -2037., -2036.,\n",
       "       -2035., -2034., -2032., -2030., -2029., -2028., -2027., -2025.,\n",
       "       -2024., -2023., -2022., -2021., -2018., -2017., -2012., -2011.,\n",
       "       -2010., -2009., -2006., -2005., -2004., -2002., -2000., -1998.,\n",
       "       -1992., -1991., -1990., -1988., -1985., -1984., -1983., -1982.,\n",
       "       -1980., -1978., -1976., -1973., -1972., -1970., -1969., -1968.,\n",
       "       -1963., -1957., -1954., -1938., -1932., -1927., -1923., -1920.,\n",
       "       -1876., -1863., -1796., -1781., -1654., -1527., -1308., -1307.,\n",
       "       -1262.,  -154.,   -50.,   538.,   640.,   662.,   665.,   670.,\n",
       "         678.,   698.,   703.,   705.,   709.,   720.,   723.,   726.,\n",
       "         727.,   728.,   732.,   734.,   736.,   737.,   740.,   741.,\n",
       "         742.,   743.,   745.,   746.,   748.,   749.,   750.,   751.,\n",
       "         752.,   753.,   754.,   756.,   758.,   759.,   760.,   761.,\n",
       "         762.,   763.,   764.,   765.,   766.,   767.,   768.,   769.,\n",
       "         770.,   771.,   772.,   773.,   774.,   775.,   776.,   777.,\n",
       "         778.,   779.,   780.,   781.,   782.,   783.,   784.,   785.,\n",
       "         786.,   787.,   788.,   789.,   790.,   791.,   792.,   793.,\n",
       "         794.,   795.,   796.,   797.,   798.,   799.,   800.,   801.,\n",
       "         802.,   803.,   804.,   805.,   806.,   807.,   808.,   809.,\n",
       "         810.,   811.,   812.,   813.,   814.,   815.,   816.,   817.,\n",
       "         818.,   819.,   820.,   821.,   822.,   823.,   824.,   825.,\n",
       "         826.,   827.,   828.,   829.,   830.,   831.,   832.,   833.,\n",
       "         834.,   835.,   836.,   837.,   838.,   839.,   840.,   841.,\n",
       "         842.,   843.,   844.,   845.,   846.,   847.,   848.,   849.,\n",
       "         850.,   851.,   853.,   854.,   855.,   856.,   857.,   858.,\n",
       "         859.,   860.,   861.,   862.,   863.,   864.,   865.,   866.,\n",
       "         867.,   869.,   870.,   871.,   874.,   876.,   877.,   879.,\n",
       "         880.,   881.,   883.,   888.,   894.], dtype=float32)"
      ]
     },
     "execution_count": 56,
     "metadata": {},
     "output_type": "execute_result"
    }
   ],
   "source": [
    "np.unique(pred_train)"
   ]
  },
  {
   "cell_type": "code",
   "execution_count": 57,
   "metadata": {
    "colab": {
     "base_uri": "https://localhost:8080/"
    },
    "id": "S6qw9DqYbkJp",
    "outputId": "5acbb8d3-429b-4b58-8efb-5238781a3489"
   },
   "outputs": [],
   "source": [
    "train_pred=[]\n",
    "for i in range(len(pred_train)):\n",
    "  \n",
    "  if pred_train[i] > 1:\n",
    "    train_pred.append(1)\n",
    "  else:\n",
    "    train_pred.append(0)\n",
    "\n",
    "#print(train_pred)"
   ]
  },
  {
   "cell_type": "code",
   "execution_count": 58,
   "metadata": {
    "id": "bRzpcaI4rcwN"
   },
   "outputs": [],
   "source": [
    "from sklearn.metrics import accuracy_score, precision_score, recall_score, f1_score, mean_squared_error, confusion_matrix, classification_report"
   ]
  },
  {
   "cell_type": "code",
   "execution_count": 60,
   "metadata": {},
   "outputs": [
    {
     "name": "stdout",
     "output_type": "stream",
     "text": [
      "33/33 [==============================] - 101s 3s/step\n"
     ]
    }
   ],
   "source": [
    "pred_test = vit_classifier.predict(x_test, batch_size=256)"
   ]
  },
  {
   "cell_type": "code",
   "execution_count": 61,
   "metadata": {
    "colab": {
     "base_uri": "https://localhost:8080/"
    },
    "id": "agMlsTp5n7F9",
    "outputId": "e5287f23-85b9-4f87-abb1-873188d78e0d"
   },
   "outputs": [],
   "source": [
    "test_pred=[]\n",
    "for i in range(len(pred_test)):\n",
    "  \n",
    "  if pred_test[i] > 1:\n",
    "    test_pred.append(1)\n",
    "  else:\n",
    "    test_pred.append(0)\n",
    "\n",
    "#print(test_pred)"
   ]
  },
  {
   "cell_type": "code",
   "execution_count": 62,
   "metadata": {
    "id": "uTSKPl5Arc9i"
   },
   "outputs": [],
   "source": [
    "report = classification_report(y_test, test_pred)"
   ]
  },
  {
   "cell_type": "code",
   "execution_count": 63,
   "metadata": {
    "colab": {
     "base_uri": "https://localhost:8080/"
    },
    "id": "YzKImoRSrGl9",
    "outputId": "6cc938be-a4f7-4bd2-86eb-f8f0fa10f959"
   },
   "outputs": [
    {
     "name": "stdout",
     "output_type": "stream",
     "text": [
      "Accuracy:  0.8598520992366412\n",
      "Precision:  0.86000304116632\n",
      "F1 Score 0.8598306234093245\n",
      "Recall: 0.8598520992366412\n",
      "              precision    recall  f1-score   support\n",
      "\n",
      "           0       0.85      0.87      0.86      4208\n",
      "           1       0.87      0.85      0.86      4176\n",
      "\n",
      "    accuracy                           0.86      8384\n",
      "   macro avg       0.86      0.86      0.86      8384\n",
      "weighted avg       0.86      0.86      0.86      8384\n",
      "\n"
     ]
    }
   ],
   "source": [
    "accuracy = accuracy_score(y_test, test_pred)\n",
    "\n",
    "precision = precision_score(y_test, test_pred, average='weighted')\n",
    "f1 = f1_score(y_test, test_pred, average='weighted')\n",
    "recall = recall_score(y_test, test_pred, average='weighted')\n",
    "#Loss = history.history['loss'][4]\n",
    "#print(history.history['loss'])\n",
    "print(\"Accuracy: \", accuracy)\n",
    "print(\"Precision: \", precision)\n",
    "print(\"F1 Score\", f1)\n",
    "print(\"Recall:\", recall)\n",
    "report = classification_report(y_test, test_pred)\n",
    "print(report)"
   ]
  },
  {
   "cell_type": "code",
   "execution_count": 64,
   "metadata": {
    "id": "_-05NgGrpD9T"
   },
   "outputs": [],
   "source": [
    "import seaborn as sns"
   ]
  },
  {
   "cell_type": "code",
   "execution_count": 66,
   "metadata": {
    "colab": {
     "base_uri": "https://localhost:8080/",
     "height": 330
    },
    "id": "zdxKUFaJo2XV",
    "outputId": "fc168edf-390a-4a04-9d5f-469d45c36226"
   },
   "outputs": [
    {
     "name": "stdout",
     "output_type": "stream",
     "text": [
      "[[3665  543]\n",
      " [ 632 3544]]\n"
     ]
    },
    {
     "data": {
      "image/png": "[encoded data removed]",
      "text/plain": [
       "<Figure size 700x400 with 2 Axes>"
      ]
     },
     "metadata": {},
     "output_type": "display_data"
    },
    {
     "data": {
      "text/plain": [
       "<Figure size 640x480 with 0 Axes>"
      ]
     },
     "metadata": {},
     "output_type": "display_data"
    }
   ],
   "source": [
    "cm = confusion_matrix(y_test, test_pred)\n",
    "print(cm)\n",
    "    \n",
    "    \n",
    "cm_df = pd.DataFrame(cm,\n",
    "                     index = ['Decrease','Increase'], \n",
    "                     columns = ['Decrease','Increase'])\n",
    "    #Plotting the confusion matrix\n",
    "plt.figure(figsize=(7,4))\n",
    "sns.heatmap(cm_df, annot=True, fmt ='g')\n",
    "plt.title('Confusion Matrix')\n",
    "plt.ylabel('Actual Values')\n",
    "plt.xlabel('Predicted Values')\n",
    "plt.show()\n",
    "plt.savefig('Confusion.png')"
   ]
  },
  {
   "cell_type": "code",
   "execution_count": 67,
   "metadata": {
    "colab": {
     "base_uri": "https://localhost:8080/",
     "height": 295
    },
    "id": "uBvREQXXOlgl",
    "outputId": "d207ec26-1ee2-4c36-9509-ee503a0287ec"
   },
   "outputs": [
    {
     "data": {
      "image/png": "[encoded data removed]",
      "text/plain": [
       "<Figure size 640x480 with 1 Axes>"
      ]
     },
     "metadata": {},
     "output_type": "display_data"
    }
   ],
   "source": [
    "plt.plot(y_test, label='Actual Values (y_test)')\n",
    "plt.plot(test_pred, label='Predicted Values (test_pred)')\n",
    "plt.xlabel('Observations')\n",
    "plt.ylabel('Target Variable')\n",
    "plt.title('Actual vs Predicted')\n",
    "plt.legend()\n",
    "plt.show()"
   ]
  },
  {
   "cell_type": "code",
   "execution_count": 68,
   "metadata": {
    "colab": {
     "base_uri": "https://localhost:8080/",
     "height": 295
    },
    "id": "AdmQGs6EsNeK",
    "outputId": "343703da-b464-4323-ab67-995d6b26f0a1"
   },
   "outputs": [
    {
     "data": {
      "image/png": "[encoded data removed]",
      "text/plain": [
       "<Figure size 640x480 with 1 Axes>"
      ]
     },
     "metadata": {},
     "output_type": "display_data"
    }
   ],
   "source": [
    "plt.plot(y_train, label='Actual Values (y_train)')\n",
    "plt.plot(train_pred, label='Predicted Values (train_pred)')\n",
    "plt.xlabel('Observations')\n",
    "plt.ylabel('Target Variable')\n",
    "plt.title('Actual vs Predicted')\n",
    "plt.legend()\n",
    "plt.show()"
   ]
  }
 ],
 "metadata": {
  "accelerator": "GPU",
  "colab": {
   "provenance": []
  },
  "gpuClass": "standard",
  "kernelspec": {
   "display_name": "Python 3 (ipykernel)",
   "language": "python",
   "name": "python3"
  },
  "language_info": {
   "codemirror_mode": {
    "name": "ipython",
    "version": 3
   },
   "file_extension": ".py",
   "mimetype": "text/x-python",
   "name": "python",
   "nbconvert_exporter": "python",
   "pygments_lexer": "ipython3",
   "version": "3.9.12"
  }
 },
 "nbformat": 4,
 "nbformat_minor": 4
}
